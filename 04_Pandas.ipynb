{
  "nbformat": 4,
  "nbformat_minor": 0,
  "metadata": {
    "colab": {
      "name": "04-Pandas.ipynb",
      "provenance": [],
      "collapsed_sections": [],
      "authorship_tag": "ABX9TyM45rjL5moSLQ+ZW52VHv2j",
      "include_colab_link": true
    },
    "kernelspec": {
      "name": "python3",
      "display_name": "Python 3"
    },
    "language_info": {
      "name": "python"
    }
  },
  "cells": [
    {
      "cell_type": "markdown",
      "metadata": {
        "id": "view-in-github",
        "colab_type": "text"
      },
      "source": [
        "<a href=\"https://colab.research.google.com/github/pingstech/ZeroToHero-ML/blob/main/04_Pandas.ipynb\" target=\"_parent\"><img src=\"https://colab.research.google.com/assets/colab-badge.svg\" alt=\"Open In Colab\"/></a>"
      ]
    },
    {
      "cell_type": "code",
      "metadata": {
        "id": "DkBRFrhAMEqg"
      },
      "source": [
        "#Pandas, data frameleri(isim,yaş gibi değişkenler) kullanmak için hızlı ve etkili\n",
        "#Dosyalar arası geçişleri çok kolaydır (csv ve txt dosyaları açıp inceleyip sonuçlarımızı bu dosya tiplerinde kaydedebiliriz)\n",
        "#Non-Value yani kayıp(missing data) verilere çözüm üretmek daha kolaydır.\n",
        "#reshape yapıp datayı daha etkili bir şekilde kullanabiliriz.\n",
        "#Slicing ve indexing kolay\n",
        "#Time-series data(zamana bağlı veri) analizine çok yardımcı olur\n",
        "#En önemlisi HIZLI'dır"
      ],
      "execution_count": null,
      "outputs": []
    },
    {
      "cell_type": "code",
      "metadata": {
        "colab": {
          "base_uri": "https://localhost:8080/",
          "height": 235
        },
        "id": "69Q1mMwHNVXU",
        "outputId": "d27caf7a-4f94-45e6-d470-a8f940c6ccfc"
      },
      "source": [
        "import pandas as pd\n",
        "\n",
        "tempDictionary={\"Name\":[\"Ali\",\"Veli\",\"Kenan\",\"Furkan\",\"Hilal\",\"Evren\"],\n",
        "                \"Age\":[15,16,17,33,45,66],\n",
        "                \"Sallary\":[100,150,155,240,350,229]}\n",
        "dataFrame1=pd.DataFrame(tempDictionary)\n",
        "dataFrame1"
      ],
      "execution_count": null,
      "outputs": [
        {
          "output_type": "execute_result",
          "data": {
            "text/html": [
              "<div>\n",
              "<style scoped>\n",
              "    .dataframe tbody tr th:only-of-type {\n",
              "        vertical-align: middle;\n",
              "    }\n",
              "\n",
              "    .dataframe tbody tr th {\n",
              "        vertical-align: top;\n",
              "    }\n",
              "\n",
              "    .dataframe thead th {\n",
              "        text-align: right;\n",
              "    }\n",
              "</style>\n",
              "<table border=\"1\" class=\"dataframe\">\n",
              "  <thead>\n",
              "    <tr style=\"text-align: right;\">\n",
              "      <th></th>\n",
              "      <th>Name</th>\n",
              "      <th>Age</th>\n",
              "      <th>Sallary</th>\n",
              "    </tr>\n",
              "  </thead>\n",
              "  <tbody>\n",
              "    <tr>\n",
              "      <th>0</th>\n",
              "      <td>Ali</td>\n",
              "      <td>15</td>\n",
              "      <td>100</td>\n",
              "    </tr>\n",
              "    <tr>\n",
              "      <th>1</th>\n",
              "      <td>Veli</td>\n",
              "      <td>16</td>\n",
              "      <td>150</td>\n",
              "    </tr>\n",
              "    <tr>\n",
              "      <th>2</th>\n",
              "      <td>Kenan</td>\n",
              "      <td>17</td>\n",
              "      <td>155</td>\n",
              "    </tr>\n",
              "    <tr>\n",
              "      <th>3</th>\n",
              "      <td>Furkan</td>\n",
              "      <td>33</td>\n",
              "      <td>240</td>\n",
              "    </tr>\n",
              "    <tr>\n",
              "      <th>4</th>\n",
              "      <td>Hilal</td>\n",
              "      <td>45</td>\n",
              "      <td>350</td>\n",
              "    </tr>\n",
              "    <tr>\n",
              "      <th>5</th>\n",
              "      <td>Evren</td>\n",
              "      <td>66</td>\n",
              "      <td>229</td>\n",
              "    </tr>\n",
              "  </tbody>\n",
              "</table>\n",
              "</div>"
            ],
            "text/plain": [
              "     Name  Age  Sallary\n",
              "0     Ali   15      100\n",
              "1    Veli   16      150\n",
              "2   Kenan   17      155\n",
              "3  Furkan   33      240\n",
              "4   Hilal   45      350\n",
              "5   Evren   66      229"
            ]
          },
          "metadata": {},
          "execution_count": 126
        }
      ]
    },
    {
      "cell_type": "code",
      "metadata": {
        "colab": {
          "base_uri": "https://localhost:8080/",
          "height": 204
        },
        "id": "emwXLJ5CN_wn",
        "outputId": "974bd6c6-506b-4678-fe72-ff54ff70f1d6"
      },
      "source": [
        "#baştaki 5 satırı(default olarak) ver demek için kullanılır\n",
        "#genellikle ilk başta hemen verilerin ne olduğunu incelemek için kullanılır\n",
        "head=dataFrame1.head() \n",
        "head"
      ],
      "execution_count": null,
      "outputs": [
        {
          "output_type": "execute_result",
          "data": {
            "text/html": [
              "<div>\n",
              "<style scoped>\n",
              "    .dataframe tbody tr th:only-of-type {\n",
              "        vertical-align: middle;\n",
              "    }\n",
              "\n",
              "    .dataframe tbody tr th {\n",
              "        vertical-align: top;\n",
              "    }\n",
              "\n",
              "    .dataframe thead th {\n",
              "        text-align: right;\n",
              "    }\n",
              "</style>\n",
              "<table border=\"1\" class=\"dataframe\">\n",
              "  <thead>\n",
              "    <tr style=\"text-align: right;\">\n",
              "      <th></th>\n",
              "      <th>Name</th>\n",
              "      <th>Age</th>\n",
              "      <th>Sallary</th>\n",
              "    </tr>\n",
              "  </thead>\n",
              "  <tbody>\n",
              "    <tr>\n",
              "      <th>0</th>\n",
              "      <td>Ali</td>\n",
              "      <td>15</td>\n",
              "      <td>100</td>\n",
              "    </tr>\n",
              "    <tr>\n",
              "      <th>1</th>\n",
              "      <td>Veli</td>\n",
              "      <td>16</td>\n",
              "      <td>150</td>\n",
              "    </tr>\n",
              "    <tr>\n",
              "      <th>2</th>\n",
              "      <td>Kenan</td>\n",
              "      <td>17</td>\n",
              "      <td>155</td>\n",
              "    </tr>\n",
              "    <tr>\n",
              "      <th>3</th>\n",
              "      <td>Furkan</td>\n",
              "      <td>33</td>\n",
              "      <td>240</td>\n",
              "    </tr>\n",
              "    <tr>\n",
              "      <th>4</th>\n",
              "      <td>Hilal</td>\n",
              "      <td>45</td>\n",
              "      <td>350</td>\n",
              "    </tr>\n",
              "  </tbody>\n",
              "</table>\n",
              "</div>"
            ],
            "text/plain": [
              "     Name  Age  Sallary\n",
              "0     Ali   15      100\n",
              "1    Veli   16      150\n",
              "2   Kenan   17      155\n",
              "3  Furkan   33      240\n",
              "4   Hilal   45      350"
            ]
          },
          "metadata": {},
          "execution_count": 127
        }
      ]
    },
    {
      "cell_type": "code",
      "metadata": {
        "colab": {
          "base_uri": "https://localhost:8080/",
          "height": 204
        },
        "id": "3KE5HjlzOoMv",
        "outputId": "dcbb424f-5be7-4bea-9416-92a9e7f30e41"
      },
      "source": [
        "#sondaki 5 satırı(default olarak) ver demek için kullanılır\n",
        "tail=dataFrame1.tail()\n",
        "tail"
      ],
      "execution_count": null,
      "outputs": [
        {
          "output_type": "execute_result",
          "data": {
            "text/html": [
              "<div>\n",
              "<style scoped>\n",
              "    .dataframe tbody tr th:only-of-type {\n",
              "        vertical-align: middle;\n",
              "    }\n",
              "\n",
              "    .dataframe tbody tr th {\n",
              "        vertical-align: top;\n",
              "    }\n",
              "\n",
              "    .dataframe thead th {\n",
              "        text-align: right;\n",
              "    }\n",
              "</style>\n",
              "<table border=\"1\" class=\"dataframe\">\n",
              "  <thead>\n",
              "    <tr style=\"text-align: right;\">\n",
              "      <th></th>\n",
              "      <th>Name</th>\n",
              "      <th>Age</th>\n",
              "      <th>Sallary</th>\n",
              "    </tr>\n",
              "  </thead>\n",
              "  <tbody>\n",
              "    <tr>\n",
              "      <th>1</th>\n",
              "      <td>Veli</td>\n",
              "      <td>16</td>\n",
              "      <td>150</td>\n",
              "    </tr>\n",
              "    <tr>\n",
              "      <th>2</th>\n",
              "      <td>Kenan</td>\n",
              "      <td>17</td>\n",
              "      <td>155</td>\n",
              "    </tr>\n",
              "    <tr>\n",
              "      <th>3</th>\n",
              "      <td>Furkan</td>\n",
              "      <td>33</td>\n",
              "      <td>240</td>\n",
              "    </tr>\n",
              "    <tr>\n",
              "      <th>4</th>\n",
              "      <td>Hilal</td>\n",
              "      <td>45</td>\n",
              "      <td>350</td>\n",
              "    </tr>\n",
              "    <tr>\n",
              "      <th>5</th>\n",
              "      <td>Evren</td>\n",
              "      <td>66</td>\n",
              "      <td>229</td>\n",
              "    </tr>\n",
              "  </tbody>\n",
              "</table>\n",
              "</div>"
            ],
            "text/plain": [
              "     Name  Age  Sallary\n",
              "1    Veli   16      150\n",
              "2   Kenan   17      155\n",
              "3  Furkan   33      240\n",
              "4   Hilal   45      350\n",
              "5   Evren   66      229"
            ]
          },
          "metadata": {},
          "execution_count": 128
        }
      ]
    },
    {
      "cell_type": "code",
      "metadata": {
        "id": "1hxQYtgjO5Vl"
      },
      "source": [
        "#------------PANDAS BASİT KOMUTLAR------------"
      ],
      "execution_count": null,
      "outputs": []
    },
    {
      "cell_type": "code",
      "metadata": {
        "colab": {
          "base_uri": "https://localhost:8080/"
        },
        "id": "9N4zGlKGPStr",
        "outputId": "35f23ca1-3fd5-4da5-d575-c0ee8da4c3b4"
      },
      "source": [
        "print(dataFrame1.columns) #kısacası verinin başlıklarını verir"
      ],
      "execution_count": null,
      "outputs": [
        {
          "output_type": "stream",
          "name": "stdout",
          "text": [
            "Index(['Name', 'Age', 'Sallary'], dtype='object')\n"
          ]
        }
      ]
    },
    {
      "cell_type": "code",
      "metadata": {
        "colab": {
          "base_uri": "https://localhost:8080/"
        },
        "id": "7v_4TQflPWwH",
        "outputId": "9732a3af-ecdf-4df1-f0d2-9a8a3e8bbc01"
      },
      "source": [
        "print(dataFrame1.info()) #Kullandığımız veri setinin bilgilerini verir"
      ],
      "execution_count": null,
      "outputs": [
        {
          "output_type": "stream",
          "name": "stdout",
          "text": [
            "<class 'pandas.core.frame.DataFrame'>\n",
            "RangeIndex: 6 entries, 0 to 5\n",
            "Data columns (total 3 columns):\n",
            " #   Column   Non-Null Count  Dtype \n",
            "---  ------   --------------  ----- \n",
            " 0   Name     6 non-null      object\n",
            " 1   Age      6 non-null      int64 \n",
            " 2   Sallary  6 non-null      int64 \n",
            "dtypes: int64(2), object(1)\n",
            "memory usage: 272.0+ bytes\n",
            "None\n"
          ]
        }
      ]
    },
    {
      "cell_type": "code",
      "metadata": {
        "colab": {
          "base_uri": "https://localhost:8080/"
        },
        "id": "_04O0uv_PiM7",
        "outputId": "94e2aa49-b16e-4e26-839d-539cf17aa1da"
      },
      "source": [
        "print(dataFrame1.dtypes)#Her bir sütünün tipini verir"
      ],
      "execution_count": null,
      "outputs": [
        {
          "output_type": "stream",
          "name": "stdout",
          "text": [
            "Name       object\n",
            "Age         int64\n",
            "Sallary     int64\n",
            "dtype: object\n"
          ]
        }
      ]
    },
    {
      "cell_type": "code",
      "metadata": {
        "colab": {
          "base_uri": "https://localhost:8080/"
        },
        "id": "q_j6Ef5RQEiq",
        "outputId": "c5f6a4fe-a82a-4199-bef1-af2167442a41"
      },
      "source": [
        "print(dataFrame1.describe()) # numeric değerleri tanımlar"
      ],
      "execution_count": null,
      "outputs": [
        {
          "output_type": "stream",
          "name": "stdout",
          "text": [
            "             Age     Sallary\n",
            "count   6.000000    6.000000\n",
            "mean   32.000000  204.000000\n",
            "std    20.474374   88.735562\n",
            "min    15.000000  100.000000\n",
            "25%    16.250000  151.250000\n",
            "50%    25.000000  192.000000\n",
            "75%    42.000000  237.250000\n",
            "max    66.000000  350.000000\n"
          ]
        }
      ]
    },
    {
      "cell_type": "code",
      "metadata": {
        "id": "0vUlBBtmQy-Y"
      },
      "source": [
        "#------------ Indexing and Slicing------------"
      ],
      "execution_count": null,
      "outputs": []
    },
    {
      "cell_type": "code",
      "metadata": {
        "colab": {
          "base_uri": "https://localhost:8080/"
        },
        "id": "kl5dp7EmQVDi",
        "outputId": "cd774af7-3b60-42ac-cad0-f02e84cfb75a"
      },
      "source": [
        "print(dataFrame1)"
      ],
      "execution_count": null,
      "outputs": [
        {
          "output_type": "stream",
          "name": "stdout",
          "text": [
            "     Name  Age  Sallary\n",
            "0     Ali   15      100\n",
            "1    Veli   16      150\n",
            "2   Kenan   17      155\n",
            "3  Furkan   33      240\n",
            "4   Hilal   45      350\n",
            "5   Evren   66      229\n"
          ]
        }
      ]
    },
    {
      "cell_type": "code",
      "metadata": {
        "colab": {
          "base_uri": "https://localhost:8080/"
        },
        "id": "rK-K-zrvQ_bu",
        "outputId": "a8c76e77-1abd-41de-b6e3-b2a61484102c"
      },
      "source": [
        "print(dataFrame1[\"Name\"]) #Yaparak sadece \"NAME\"in altında kalan kısmı indekslemiş olduk"
      ],
      "execution_count": null,
      "outputs": [
        {
          "output_type": "stream",
          "name": "stdout",
          "text": [
            "0       Ali\n",
            "1      Veli\n",
            "2     Kenan\n",
            "3    Furkan\n",
            "4     Hilal\n",
            "5     Evren\n",
            "Name: Name, dtype: object\n"
          ]
        }
      ]
    },
    {
      "cell_type": "code",
      "metadata": {
        "colab": {
          "base_uri": "https://localhost:8080/"
        },
        "id": "oMG83krGRIe2",
        "outputId": "41268528-8e80-4a3d-dca9-132321943955"
      },
      "source": [
        "print(dataFrame1[\"Age\"]) #Yaparak sadece \"Age\"in altında kalan kısmı indekslemiş olduk"
      ],
      "execution_count": null,
      "outputs": [
        {
          "output_type": "stream",
          "name": "stdout",
          "text": [
            "0    15\n",
            "1    16\n",
            "2    17\n",
            "3    33\n",
            "4    45\n",
            "5    66\n",
            "Name: Age, dtype: int64\n"
          ]
        }
      ]
    },
    {
      "cell_type": "code",
      "metadata": {
        "colab": {
          "base_uri": "https://localhost:8080/"
        },
        "id": "dPYAmUGBRQlC",
        "outputId": "c4cc5a11-0be1-4e61-a8c3-ea982fc673aa"
      },
      "source": [
        "print(dataFrame1.Age) # Bir önceki yaptığımız işlem ile aynı anlama gelir"
      ],
      "execution_count": null,
      "outputs": [
        {
          "output_type": "stream",
          "name": "stdout",
          "text": [
            "0    15\n",
            "1    16\n",
            "2    17\n",
            "3    33\n",
            "4    45\n",
            "5    66\n",
            "Name: Age, dtype: int64\n"
          ]
        }
      ]
    },
    {
      "cell_type": "code",
      "metadata": {
        "colab": {
          "base_uri": "https://localhost:8080/",
          "height": 235
        },
        "id": "yBO12Y-cRUBK",
        "outputId": "9a23c13b-f6f2-4b6c-e941-9b5fcf1bf58e"
      },
      "source": [
        "dataFrame1[\"Yeni Feature\"]=[-1,-2,-3,-4,-5,-6] # Yeni bir frame ekledik fakat Boşluk olmadan yazmamız gerekiyor boşluk bırakırsak aşağıda gördüğümüz gibi iki yeni feature oluşturuyor\n",
        "dataFrame1 # "
      ],
      "execution_count": null,
      "outputs": [
        {
          "output_type": "execute_result",
          "data": {
            "text/html": [
              "<div>\n",
              "<style scoped>\n",
              "    .dataframe tbody tr th:only-of-type {\n",
              "        vertical-align: middle;\n",
              "    }\n",
              "\n",
              "    .dataframe tbody tr th {\n",
              "        vertical-align: top;\n",
              "    }\n",
              "\n",
              "    .dataframe thead th {\n",
              "        text-align: right;\n",
              "    }\n",
              "</style>\n",
              "<table border=\"1\" class=\"dataframe\">\n",
              "  <thead>\n",
              "    <tr style=\"text-align: right;\">\n",
              "      <th></th>\n",
              "      <th>Name</th>\n",
              "      <th>Age</th>\n",
              "      <th>Sallary</th>\n",
              "      <th>Yeni Feature</th>\n",
              "    </tr>\n",
              "  </thead>\n",
              "  <tbody>\n",
              "    <tr>\n",
              "      <th>0</th>\n",
              "      <td>Ali</td>\n",
              "      <td>15</td>\n",
              "      <td>100</td>\n",
              "      <td>-1</td>\n",
              "    </tr>\n",
              "    <tr>\n",
              "      <th>1</th>\n",
              "      <td>Veli</td>\n",
              "      <td>16</td>\n",
              "      <td>150</td>\n",
              "      <td>-2</td>\n",
              "    </tr>\n",
              "    <tr>\n",
              "      <th>2</th>\n",
              "      <td>Kenan</td>\n",
              "      <td>17</td>\n",
              "      <td>155</td>\n",
              "      <td>-3</td>\n",
              "    </tr>\n",
              "    <tr>\n",
              "      <th>3</th>\n",
              "      <td>Furkan</td>\n",
              "      <td>33</td>\n",
              "      <td>240</td>\n",
              "      <td>-4</td>\n",
              "    </tr>\n",
              "    <tr>\n",
              "      <th>4</th>\n",
              "      <td>Hilal</td>\n",
              "      <td>45</td>\n",
              "      <td>350</td>\n",
              "      <td>-5</td>\n",
              "    </tr>\n",
              "    <tr>\n",
              "      <th>5</th>\n",
              "      <td>Evren</td>\n",
              "      <td>66</td>\n",
              "      <td>229</td>\n",
              "      <td>-6</td>\n",
              "    </tr>\n",
              "  </tbody>\n",
              "</table>\n",
              "</div>"
            ],
            "text/plain": [
              "     Name  Age  Sallary  Yeni Feature\n",
              "0     Ali   15      100            -1\n",
              "1    Veli   16      150            -2\n",
              "2   Kenan   17      155            -3\n",
              "3  Furkan   33      240            -4\n",
              "4   Hilal   45      350            -5\n",
              "5   Evren   66      229            -6"
            ]
          },
          "metadata": {},
          "execution_count": 139
        }
      ]
    },
    {
      "cell_type": "code",
      "metadata": {
        "colab": {
          "base_uri": "https://localhost:8080/"
        },
        "id": "Y5mi3R63RrOQ",
        "outputId": "07b68827-11f8-4d39-8f44-1fba10ff8290"
      },
      "source": [
        "print(dataFrame1.loc[:,\"Age\"])"
      ],
      "execution_count": null,
      "outputs": [
        {
          "output_type": "stream",
          "name": "stdout",
          "text": [
            "0    15\n",
            "1    16\n",
            "2    17\n",
            "3    33\n",
            "4    45\n",
            "5    66\n",
            "Name: Age, dtype: int64\n"
          ]
        }
      ]
    },
    {
      "cell_type": "code",
      "metadata": {
        "colab": {
          "base_uri": "https://localhost:8080/"
        },
        "id": "efApvb58SJ6-",
        "outputId": "abfa176f-367b-4a80-9245-a0cff798909d"
      },
      "source": [
        "print(dataFrame1.loc[:3,\"Age\"]) #yani \"Age\" feature'nın ilk 3 değerini al"
      ],
      "execution_count": null,
      "outputs": [
        {
          "output_type": "stream",
          "name": "stdout",
          "text": [
            "0    15\n",
            "1    16\n",
            "2    17\n",
            "3    33\n",
            "Name: Age, dtype: int64\n"
          ]
        }
      ]
    },
    {
      "cell_type": "code",
      "metadata": {
        "colab": {
          "base_uri": "https://localhost:8080/"
        },
        "id": "8nEZP9I7SXmg",
        "outputId": "6125d7ac-8f14-465c-dcf4-f07bfc696392"
      },
      "source": [
        "print(dataFrame1.loc[:3,\"Name\":\"Age\"])"
      ],
      "execution_count": null,
      "outputs": [
        {
          "output_type": "stream",
          "name": "stdout",
          "text": [
            "     Name  Age\n",
            "0     Ali   15\n",
            "1    Veli   16\n",
            "2   Kenan   17\n",
            "3  Furkan   33\n"
          ]
        }
      ]
    },
    {
      "cell_type": "code",
      "metadata": {
        "colab": {
          "base_uri": "https://localhost:8080/"
        },
        "id": "wmnVJyheSdcN",
        "outputId": "6c7a34cf-0456-4b32-9afe-3fd6d5383d8f"
      },
      "source": [
        "print(dataFrame1.loc[:3,[\"Name\",\"Age\"]])"
      ],
      "execution_count": null,
      "outputs": [
        {
          "output_type": "stream",
          "name": "stdout",
          "text": [
            "     Name  Age\n",
            "0     Ali   15\n",
            "1    Veli   16\n",
            "2   Kenan   17\n",
            "3  Furkan   33\n"
          ]
        }
      ]
    },
    {
      "cell_type": "code",
      "metadata": {
        "colab": {
          "base_uri": "https://localhost:8080/"
        },
        "id": "Rlzgao1lSr3r",
        "outputId": "ad345ee5-ef8c-410f-b8b7-d71b27c27a5f"
      },
      "source": [
        "print(dataFrame1.loc[::-1,:]) # Tüm satırları tersten yazdırma"
      ],
      "execution_count": null,
      "outputs": [
        {
          "output_type": "stream",
          "name": "stdout",
          "text": [
            "     Name  Age  Sallary  Yeni Feature\n",
            "5   Evren   66      229            -6\n",
            "4   Hilal   45      350            -5\n",
            "3  Furkan   33      240            -4\n",
            "2   Kenan   17      155            -3\n",
            "1    Veli   16      150            -2\n",
            "0     Ali   15      100            -1\n"
          ]
        }
      ]
    },
    {
      "cell_type": "code",
      "metadata": {
        "colab": {
          "base_uri": "https://localhost:8080/"
        },
        "id": "fvw0tpfQSzW0",
        "outputId": "cb42d6a5-ce85-44a0-c5c4-d0840eed8ec1"
      },
      "source": [
        "print(dataFrame1.loc[:,:\"Sallary\"]) #Tüm satırları yazdır ama \"sallary\"e kadar olanları yazdır"
      ],
      "execution_count": null,
      "outputs": [
        {
          "output_type": "stream",
          "name": "stdout",
          "text": [
            "     Name  Age  Sallary\n",
            "0     Ali   15      100\n",
            "1    Veli   16      150\n",
            "2   Kenan   17      155\n",
            "3  Furkan   33      240\n",
            "4   Hilal   45      350\n",
            "5   Evren   66      229\n"
          ]
        }
      ]
    },
    {
      "cell_type": "code",
      "metadata": {
        "colab": {
          "base_uri": "https://localhost:8080/"
        },
        "id": "DYgDApGKTHuj",
        "outputId": "1efdb446-1869-4a8e-c52f-9cb448cdb175"
      },
      "source": [
        "print(dataFrame1.loc[:,\"Name\"]) # yazmak yerine\n",
        "print(dataFrame1.iloc[:,0]) # yerine yazabiliriz "
      ],
      "execution_count": null,
      "outputs": [
        {
          "output_type": "stream",
          "name": "stdout",
          "text": [
            "0       Ali\n",
            "1      Veli\n",
            "2     Kenan\n",
            "3    Furkan\n",
            "4     Hilal\n",
            "5     Evren\n",
            "Name: Name, dtype: object\n",
            "0       Ali\n",
            "1      Veli\n",
            "2     Kenan\n",
            "3    Furkan\n",
            "4     Hilal\n",
            "5     Evren\n",
            "Name: Name, dtype: object\n"
          ]
        }
      ]
    },
    {
      "cell_type": "code",
      "metadata": {
        "id": "KiOZxLBLTkQ7"
      },
      "source": [
        "#------------ Filtering ------------ "
      ],
      "execution_count": null,
      "outputs": []
    },
    {
      "cell_type": "code",
      "metadata": {
        "colab": {
          "base_uri": "https://localhost:8080/"
        },
        "id": "dprrwu0WaSdk",
        "outputId": "4739db17-e049-4473-c210-87ccb4dbb7bd"
      },
      "source": [
        "import pandas as pd\n",
        "\n",
        "tempDictionary={\"Name\":[\"Ali\",\"Veli\",\"Kenan\",\"Furkan\",\"Hilal\",\"Evren\"],\n",
        "                \"Age\":[15,16,17,33,45,66],\n",
        "                \"Sallary\":[100,150,155,240,350,229]}\n",
        "dataFrame1=pd.DataFrame(tempDictionary)\n",
        "dataFrame1\n",
        "tempFilter1=dataFrame1.Sallary > 200\n",
        "tempFilter1"
      ],
      "execution_count": null,
      "outputs": [
        {
          "output_type": "execute_result",
          "data": {
            "text/plain": [
              "0    False\n",
              "1    False\n",
              "2    False\n",
              "3     True\n",
              "4     True\n",
              "5     True\n",
              "Name: Sallary, dtype: bool"
            ]
          },
          "metadata": {},
          "execution_count": 38
        }
      ]
    },
    {
      "cell_type": "code",
      "metadata": {
        "colab": {
          "base_uri": "https://localhost:8080/",
          "height": 142
        },
        "id": "Wd4lxnkbamLz",
        "outputId": "50223eff-7576-4bb3-ee4a-4552543fed7e"
      },
      "source": [
        "filteredData=dataFrame1[tempFilter1] #MAAŞI 200'ÜN ÜSTÜNDEKİLERİ BULMUŞ OLDUK\n",
        "filteredData"
      ],
      "execution_count": null,
      "outputs": [
        {
          "output_type": "execute_result",
          "data": {
            "text/html": [
              "<div>\n",
              "<style scoped>\n",
              "    .dataframe tbody tr th:only-of-type {\n",
              "        vertical-align: middle;\n",
              "    }\n",
              "\n",
              "    .dataframe tbody tr th {\n",
              "        vertical-align: top;\n",
              "    }\n",
              "\n",
              "    .dataframe thead th {\n",
              "        text-align: right;\n",
              "    }\n",
              "</style>\n",
              "<table border=\"1\" class=\"dataframe\">\n",
              "  <thead>\n",
              "    <tr style=\"text-align: right;\">\n",
              "      <th></th>\n",
              "      <th>Name</th>\n",
              "      <th>Age</th>\n",
              "      <th>Sallary</th>\n",
              "      <th>Yeni Feature</th>\n",
              "    </tr>\n",
              "  </thead>\n",
              "  <tbody>\n",
              "    <tr>\n",
              "      <th>3</th>\n",
              "      <td>Furkan</td>\n",
              "      <td>33</td>\n",
              "      <td>240</td>\n",
              "      <td>-4</td>\n",
              "    </tr>\n",
              "    <tr>\n",
              "      <th>4</th>\n",
              "      <td>Hilal</td>\n",
              "      <td>45</td>\n",
              "      <td>350</td>\n",
              "      <td>-5</td>\n",
              "    </tr>\n",
              "    <tr>\n",
              "      <th>5</th>\n",
              "      <td>Evren</td>\n",
              "      <td>66</td>\n",
              "      <td>229</td>\n",
              "      <td>-6</td>\n",
              "    </tr>\n",
              "  </tbody>\n",
              "</table>\n",
              "</div>"
            ],
            "text/plain": [
              "     Name  Age  Sallary  Yeni Feature\n",
              "3  Furkan   33      240            -4\n",
              "4   Hilal   45      350            -5\n",
              "5   Evren   66      229            -6"
            ]
          },
          "metadata": {},
          "execution_count": 148
        }
      ]
    },
    {
      "cell_type": "code",
      "metadata": {
        "colab": {
          "base_uri": "https://localhost:8080/"
        },
        "id": "RgNOOWFybFRa",
        "outputId": "78c116f8-feea-4f98-cda0-cc04d1583462"
      },
      "source": [
        "tempFilter2=dataFrame1.Age < 35 #yaşı 35'in altında olanlar\n",
        "tempFilter2"
      ],
      "execution_count": null,
      "outputs": [
        {
          "output_type": "execute_result",
          "data": {
            "text/plain": [
              "0     True\n",
              "1     True\n",
              "2     True\n",
              "3     True\n",
              "4    False\n",
              "5    False\n",
              "Name: Age, dtype: bool"
            ]
          },
          "metadata": {},
          "execution_count": 149
        }
      ]
    },
    {
      "cell_type": "code",
      "metadata": {
        "colab": {
          "base_uri": "https://localhost:8080/",
          "height": 80
        },
        "id": "JqDP6xdobTKs",
        "outputId": "e46d8487-019a-4ab1-c27b-d5d1146366d9"
      },
      "source": [
        "dataFrame1[tempFilter1 & tempFilter2] # yaşı 35'in altı ve maaşı 200 ₺'den yüksek olanları filtreledik"
      ],
      "execution_count": null,
      "outputs": [
        {
          "output_type": "execute_result",
          "data": {
            "text/html": [
              "<div>\n",
              "<style scoped>\n",
              "    .dataframe tbody tr th:only-of-type {\n",
              "        vertical-align: middle;\n",
              "    }\n",
              "\n",
              "    .dataframe tbody tr th {\n",
              "        vertical-align: top;\n",
              "    }\n",
              "\n",
              "    .dataframe thead th {\n",
              "        text-align: right;\n",
              "    }\n",
              "</style>\n",
              "<table border=\"1\" class=\"dataframe\">\n",
              "  <thead>\n",
              "    <tr style=\"text-align: right;\">\n",
              "      <th></th>\n",
              "      <th>Name</th>\n",
              "      <th>Age</th>\n",
              "      <th>Sallary</th>\n",
              "      <th>Yeni Feature</th>\n",
              "    </tr>\n",
              "  </thead>\n",
              "  <tbody>\n",
              "    <tr>\n",
              "      <th>3</th>\n",
              "      <td>Furkan</td>\n",
              "      <td>33</td>\n",
              "      <td>240</td>\n",
              "      <td>-4</td>\n",
              "    </tr>\n",
              "  </tbody>\n",
              "</table>\n",
              "</div>"
            ],
            "text/plain": [
              "     Name  Age  Sallary  Yeni Feature\n",
              "3  Furkan   33      240            -4"
            ]
          },
          "metadata": {},
          "execution_count": 150
        }
      ]
    },
    {
      "cell_type": "code",
      "metadata": {
        "colab": {
          "base_uri": "https://localhost:8080/"
        },
        "id": "bYCvZOJSbatc",
        "outputId": "0d2d2551-3fda-4cd6-e897-be22d1094b39"
      },
      "source": [
        "print(dataFrame1[dataFrame1.Age > 60])"
      ],
      "execution_count": null,
      "outputs": [
        {
          "output_type": "stream",
          "name": "stdout",
          "text": [
            "    Name  Age  Sallary  Yeni Feature\n",
            "5  Evren   66      229            -6\n"
          ]
        }
      ]
    },
    {
      "cell_type": "code",
      "metadata": {
        "id": "7wi_NRJZbxE-"
      },
      "source": [
        "#------------LIST COMPREHENSION------------ "
      ],
      "execution_count": null,
      "outputs": []
    },
    {
      "cell_type": "code",
      "metadata": {
        "colab": {
          "base_uri": "https://localhost:8080/"
        },
        "id": "exDjhr5NcMa3",
        "outputId": "ea07ca6d-4954-48af-c61b-331a152b2562"
      },
      "source": [
        "aveSallary=dataFrame1.Sallary.mean() #Ortalama maaşı bulduk\n",
        "aveSallary"
      ],
      "execution_count": null,
      "outputs": [
        {
          "output_type": "execute_result",
          "data": {
            "text/plain": [
              "204.0"
            ]
          },
          "metadata": {},
          "execution_count": 153
        }
      ]
    },
    {
      "cell_type": "code",
      "metadata": {
        "colab": {
          "base_uri": "https://localhost:8080/"
        },
        "id": "PahCenu9cSoR",
        "outputId": "6a54f264-1a1e-4fa2-812a-b8b4897494bd"
      },
      "source": [
        "import numpy as np\n",
        "\n",
        "aveSallary_np=np.mean(dataFrame1.Sallary)\n",
        "aveSallary"
      ],
      "execution_count": null,
      "outputs": [
        {
          "output_type": "execute_result",
          "data": {
            "text/plain": [
              "204.0"
            ]
          },
          "metadata": {},
          "execution_count": 154
        }
      ]
    },
    {
      "cell_type": "code",
      "metadata": {
        "colab": {
          "base_uri": "https://localhost:8080/",
          "height": 235
        },
        "id": "lsVsBClIcpm9",
        "outputId": "b67f01ee-6a19-4470-d59a-b19e36e96350"
      },
      "source": [
        "dataFrame1[\"SallaryLevel\"]=[\"Low Sallary\" if aveSallary > each else \"High Sallary\" for each in dataFrame1.Sallary] \n",
        "              #Yukarıdaki gibi yaparsak tek satırda yapmış oluyoruz işlemleri\n",
        "dataFrame1"
      ],
      "execution_count": null,
      "outputs": [
        {
          "output_type": "execute_result",
          "data": {
            "text/html": [
              "<div>\n",
              "<style scoped>\n",
              "    .dataframe tbody tr th:only-of-type {\n",
              "        vertical-align: middle;\n",
              "    }\n",
              "\n",
              "    .dataframe tbody tr th {\n",
              "        vertical-align: top;\n",
              "    }\n",
              "\n",
              "    .dataframe thead th {\n",
              "        text-align: right;\n",
              "    }\n",
              "</style>\n",
              "<table border=\"1\" class=\"dataframe\">\n",
              "  <thead>\n",
              "    <tr style=\"text-align: right;\">\n",
              "      <th></th>\n",
              "      <th>Name</th>\n",
              "      <th>Age</th>\n",
              "      <th>Sallary</th>\n",
              "      <th>Yeni Feature</th>\n",
              "      <th>SallaryLevel</th>\n",
              "    </tr>\n",
              "  </thead>\n",
              "  <tbody>\n",
              "    <tr>\n",
              "      <th>0</th>\n",
              "      <td>Ali</td>\n",
              "      <td>15</td>\n",
              "      <td>100</td>\n",
              "      <td>-1</td>\n",
              "      <td>Low Sallary</td>\n",
              "    </tr>\n",
              "    <tr>\n",
              "      <th>1</th>\n",
              "      <td>Veli</td>\n",
              "      <td>16</td>\n",
              "      <td>150</td>\n",
              "      <td>-2</td>\n",
              "      <td>Low Sallary</td>\n",
              "    </tr>\n",
              "    <tr>\n",
              "      <th>2</th>\n",
              "      <td>Kenan</td>\n",
              "      <td>17</td>\n",
              "      <td>155</td>\n",
              "      <td>-3</td>\n",
              "      <td>Low Sallary</td>\n",
              "    </tr>\n",
              "    <tr>\n",
              "      <th>3</th>\n",
              "      <td>Furkan</td>\n",
              "      <td>33</td>\n",
              "      <td>240</td>\n",
              "      <td>-4</td>\n",
              "      <td>High Sallary</td>\n",
              "    </tr>\n",
              "    <tr>\n",
              "      <th>4</th>\n",
              "      <td>Hilal</td>\n",
              "      <td>45</td>\n",
              "      <td>350</td>\n",
              "      <td>-5</td>\n",
              "      <td>High Sallary</td>\n",
              "    </tr>\n",
              "    <tr>\n",
              "      <th>5</th>\n",
              "      <td>Evren</td>\n",
              "      <td>66</td>\n",
              "      <td>229</td>\n",
              "      <td>-6</td>\n",
              "      <td>High Sallary</td>\n",
              "    </tr>\n",
              "  </tbody>\n",
              "</table>\n",
              "</div>"
            ],
            "text/plain": [
              "     Name  Age  Sallary  Yeni Feature  SallaryLevel\n",
              "0     Ali   15      100            -1   Low Sallary\n",
              "1    Veli   16      150            -2   Low Sallary\n",
              "2   Kenan   17      155            -3   Low Sallary\n",
              "3  Furkan   33      240            -4  High Sallary\n",
              "4   Hilal   45      350            -5  High Sallary\n",
              "5   Evren   66      229            -6  High Sallary"
            ]
          },
          "metadata": {},
          "execution_count": 155
        }
      ]
    },
    {
      "cell_type": "code",
      "metadata": {
        "colab": {
          "base_uri": "https://localhost:8080/",
          "height": 337
        },
        "id": "lnaBXKR7c9I3",
        "outputId": "e58758ca-4f63-4f28-f151-8e1309207b1d"
      },
      "source": [
        "for each in dataFrame1.Sallary: #Yukarıda yazdığımız kodun uzun hali\n",
        "  if(aveSallary>each):\n",
        "    print(\"High Sallary\")\n",
        "  else:\n",
        "    print(\"Low Sallary\")\n",
        "dataFrame1"
      ],
      "execution_count": null,
      "outputs": [
        {
          "output_type": "stream",
          "name": "stdout",
          "text": [
            "High Sallary\n",
            "High Sallary\n",
            "High Sallary\n",
            "Low Sallary\n",
            "Low Sallary\n",
            "Low Sallary\n"
          ]
        },
        {
          "output_type": "execute_result",
          "data": {
            "text/html": [
              "<div>\n",
              "<style scoped>\n",
              "    .dataframe tbody tr th:only-of-type {\n",
              "        vertical-align: middle;\n",
              "    }\n",
              "\n",
              "    .dataframe tbody tr th {\n",
              "        vertical-align: top;\n",
              "    }\n",
              "\n",
              "    .dataframe thead th {\n",
              "        text-align: right;\n",
              "    }\n",
              "</style>\n",
              "<table border=\"1\" class=\"dataframe\">\n",
              "  <thead>\n",
              "    <tr style=\"text-align: right;\">\n",
              "      <th></th>\n",
              "      <th>Name</th>\n",
              "      <th>Age</th>\n",
              "      <th>Sallary</th>\n",
              "      <th>Yeni Feature</th>\n",
              "      <th>SallaryLevel</th>\n",
              "    </tr>\n",
              "  </thead>\n",
              "  <tbody>\n",
              "    <tr>\n",
              "      <th>0</th>\n",
              "      <td>Ali</td>\n",
              "      <td>15</td>\n",
              "      <td>100</td>\n",
              "      <td>-1</td>\n",
              "      <td>Low Sallary</td>\n",
              "    </tr>\n",
              "    <tr>\n",
              "      <th>1</th>\n",
              "      <td>Veli</td>\n",
              "      <td>16</td>\n",
              "      <td>150</td>\n",
              "      <td>-2</td>\n",
              "      <td>Low Sallary</td>\n",
              "    </tr>\n",
              "    <tr>\n",
              "      <th>2</th>\n",
              "      <td>Kenan</td>\n",
              "      <td>17</td>\n",
              "      <td>155</td>\n",
              "      <td>-3</td>\n",
              "      <td>Low Sallary</td>\n",
              "    </tr>\n",
              "    <tr>\n",
              "      <th>3</th>\n",
              "      <td>Furkan</td>\n",
              "      <td>33</td>\n",
              "      <td>240</td>\n",
              "      <td>-4</td>\n",
              "      <td>High Sallary</td>\n",
              "    </tr>\n",
              "    <tr>\n",
              "      <th>4</th>\n",
              "      <td>Hilal</td>\n",
              "      <td>45</td>\n",
              "      <td>350</td>\n",
              "      <td>-5</td>\n",
              "      <td>High Sallary</td>\n",
              "    </tr>\n",
              "    <tr>\n",
              "      <th>5</th>\n",
              "      <td>Evren</td>\n",
              "      <td>66</td>\n",
              "      <td>229</td>\n",
              "      <td>-6</td>\n",
              "      <td>High Sallary</td>\n",
              "    </tr>\n",
              "  </tbody>\n",
              "</table>\n",
              "</div>"
            ],
            "text/plain": [
              "     Name  Age  Sallary  Yeni Feature  SallaryLevel\n",
              "0     Ali   15      100            -1   Low Sallary\n",
              "1    Veli   16      150            -2   Low Sallary\n",
              "2   Kenan   17      155            -3   Low Sallary\n",
              "3  Furkan   33      240            -4  High Sallary\n",
              "4   Hilal   45      350            -5  High Sallary\n",
              "5   Evren   66      229            -6  High Sallary"
            ]
          },
          "metadata": {},
          "execution_count": 156
        }
      ]
    },
    {
      "cell_type": "code",
      "metadata": {
        "colab": {
          "base_uri": "https://localhost:8080/",
          "height": 235
        },
        "id": "wLzzXCBMdLsY",
        "outputId": "d76e0c0c-c4da-4448-beef-508835ddad96"
      },
      "source": [
        "dataFrame1.columns=[ each.lower() for each in dataFrame1.columns] #tüm sütunları küçük harfe çevirip tekrardan yazdırıyoruz\n",
        "dataFrame1"
      ],
      "execution_count": null,
      "outputs": [
        {
          "output_type": "execute_result",
          "data": {
            "text/html": [
              "<div>\n",
              "<style scoped>\n",
              "    .dataframe tbody tr th:only-of-type {\n",
              "        vertical-align: middle;\n",
              "    }\n",
              "\n",
              "    .dataframe tbody tr th {\n",
              "        vertical-align: top;\n",
              "    }\n",
              "\n",
              "    .dataframe thead th {\n",
              "        text-align: right;\n",
              "    }\n",
              "</style>\n",
              "<table border=\"1\" class=\"dataframe\">\n",
              "  <thead>\n",
              "    <tr style=\"text-align: right;\">\n",
              "      <th></th>\n",
              "      <th>name</th>\n",
              "      <th>age</th>\n",
              "      <th>sallary</th>\n",
              "      <th>yeni feature</th>\n",
              "      <th>sallarylevel</th>\n",
              "    </tr>\n",
              "  </thead>\n",
              "  <tbody>\n",
              "    <tr>\n",
              "      <th>0</th>\n",
              "      <td>Ali</td>\n",
              "      <td>15</td>\n",
              "      <td>100</td>\n",
              "      <td>-1</td>\n",
              "      <td>Low Sallary</td>\n",
              "    </tr>\n",
              "    <tr>\n",
              "      <th>1</th>\n",
              "      <td>Veli</td>\n",
              "      <td>16</td>\n",
              "      <td>150</td>\n",
              "      <td>-2</td>\n",
              "      <td>Low Sallary</td>\n",
              "    </tr>\n",
              "    <tr>\n",
              "      <th>2</th>\n",
              "      <td>Kenan</td>\n",
              "      <td>17</td>\n",
              "      <td>155</td>\n",
              "      <td>-3</td>\n",
              "      <td>Low Sallary</td>\n",
              "    </tr>\n",
              "    <tr>\n",
              "      <th>3</th>\n",
              "      <td>Furkan</td>\n",
              "      <td>33</td>\n",
              "      <td>240</td>\n",
              "      <td>-4</td>\n",
              "      <td>High Sallary</td>\n",
              "    </tr>\n",
              "    <tr>\n",
              "      <th>4</th>\n",
              "      <td>Hilal</td>\n",
              "      <td>45</td>\n",
              "      <td>350</td>\n",
              "      <td>-5</td>\n",
              "      <td>High Sallary</td>\n",
              "    </tr>\n",
              "    <tr>\n",
              "      <th>5</th>\n",
              "      <td>Evren</td>\n",
              "      <td>66</td>\n",
              "      <td>229</td>\n",
              "      <td>-6</td>\n",
              "      <td>High Sallary</td>\n",
              "    </tr>\n",
              "  </tbody>\n",
              "</table>\n",
              "</div>"
            ],
            "text/plain": [
              "     name  age  sallary  yeni feature  sallarylevel\n",
              "0     Ali   15      100            -1   Low Sallary\n",
              "1    Veli   16      150            -2   Low Sallary\n",
              "2   Kenan   17      155            -3   Low Sallary\n",
              "3  Furkan   33      240            -4  High Sallary\n",
              "4   Hilal   45      350            -5  High Sallary\n",
              "5   Evren   66      229            -6  High Sallary"
            ]
          },
          "metadata": {},
          "execution_count": 157
        }
      ]
    },
    {
      "cell_type": "code",
      "metadata": {
        "colab": {
          "base_uri": "https://localhost:8080/",
          "height": 235
        },
        "id": "qMMMoMU_fGH4",
        "outputId": "cec3dba3-2ba0-417f-bce3-552caf487c0c"
      },
      "source": [
        "dataFrame1.columns=[each.split()[0]+\"_\"+each.split()[1] if(len(each.split())>1) else each for each in dataFrame1.columns]\n",
        "#                       BURADA EĞER BAŞLIKLAR ARASINDA BOŞLUK KARAKTERİ VARSA ONUN SİLİNİP \"_\" İLE BİRLEŞTİRDİK.\n",
        "dataFrame1\n"
      ],
      "execution_count": null,
      "outputs": [
        {
          "output_type": "execute_result",
          "data": {
            "text/html": [
              "<div>\n",
              "<style scoped>\n",
              "    .dataframe tbody tr th:only-of-type {\n",
              "        vertical-align: middle;\n",
              "    }\n",
              "\n",
              "    .dataframe tbody tr th {\n",
              "        vertical-align: top;\n",
              "    }\n",
              "\n",
              "    .dataframe thead th {\n",
              "        text-align: right;\n",
              "    }\n",
              "</style>\n",
              "<table border=\"1\" class=\"dataframe\">\n",
              "  <thead>\n",
              "    <tr style=\"text-align: right;\">\n",
              "      <th></th>\n",
              "      <th>name</th>\n",
              "      <th>age</th>\n",
              "      <th>sallary</th>\n",
              "      <th>yeni_feature</th>\n",
              "      <th>sallarylevel</th>\n",
              "    </tr>\n",
              "  </thead>\n",
              "  <tbody>\n",
              "    <tr>\n",
              "      <th>0</th>\n",
              "      <td>Ali</td>\n",
              "      <td>15</td>\n",
              "      <td>100</td>\n",
              "      <td>-1</td>\n",
              "      <td>Low Sallary</td>\n",
              "    </tr>\n",
              "    <tr>\n",
              "      <th>1</th>\n",
              "      <td>Veli</td>\n",
              "      <td>16</td>\n",
              "      <td>150</td>\n",
              "      <td>-2</td>\n",
              "      <td>Low Sallary</td>\n",
              "    </tr>\n",
              "    <tr>\n",
              "      <th>2</th>\n",
              "      <td>Kenan</td>\n",
              "      <td>17</td>\n",
              "      <td>155</td>\n",
              "      <td>-3</td>\n",
              "      <td>Low Sallary</td>\n",
              "    </tr>\n",
              "    <tr>\n",
              "      <th>3</th>\n",
              "      <td>Furkan</td>\n",
              "      <td>33</td>\n",
              "      <td>240</td>\n",
              "      <td>-4</td>\n",
              "      <td>High Sallary</td>\n",
              "    </tr>\n",
              "    <tr>\n",
              "      <th>4</th>\n",
              "      <td>Hilal</td>\n",
              "      <td>45</td>\n",
              "      <td>350</td>\n",
              "      <td>-5</td>\n",
              "      <td>High Sallary</td>\n",
              "    </tr>\n",
              "    <tr>\n",
              "      <th>5</th>\n",
              "      <td>Evren</td>\n",
              "      <td>66</td>\n",
              "      <td>229</td>\n",
              "      <td>-6</td>\n",
              "      <td>High Sallary</td>\n",
              "    </tr>\n",
              "  </tbody>\n",
              "</table>\n",
              "</div>"
            ],
            "text/plain": [
              "     name  age  sallary  yeni_feature  sallarylevel\n",
              "0     Ali   15      100            -1   Low Sallary\n",
              "1    Veli   16      150            -2   Low Sallary\n",
              "2   Kenan   17      155            -3   Low Sallary\n",
              "3  Furkan   33      240            -4  High Sallary\n",
              "4   Hilal   45      350            -5  High Sallary\n",
              "5   Evren   66      229            -6  High Sallary"
            ]
          },
          "metadata": {},
          "execution_count": 158
        }
      ]
    },
    {
      "cell_type": "code",
      "metadata": {
        "id": "aEI5i0nAga5N"
      },
      "source": [
        "#------------DROP AND CONCATENATING------------ "
      ],
      "execution_count": null,
      "outputs": []
    },
    {
      "cell_type": "code",
      "metadata": {
        "colab": {
          "base_uri": "https://localhost:8080/",
          "height": 235
        },
        "id": "6Gl-6gKCTMIf",
        "outputId": "e657091b-a54f-41e7-9f62-e9555c91d020"
      },
      "source": [
        "dataFrame1"
      ],
      "execution_count": null,
      "outputs": [
        {
          "output_type": "execute_result",
          "data": {
            "text/html": [
              "<div>\n",
              "<style scoped>\n",
              "    .dataframe tbody tr th:only-of-type {\n",
              "        vertical-align: middle;\n",
              "    }\n",
              "\n",
              "    .dataframe tbody tr th {\n",
              "        vertical-align: top;\n",
              "    }\n",
              "\n",
              "    .dataframe thead th {\n",
              "        text-align: right;\n",
              "    }\n",
              "</style>\n",
              "<table border=\"1\" class=\"dataframe\">\n",
              "  <thead>\n",
              "    <tr style=\"text-align: right;\">\n",
              "      <th></th>\n",
              "      <th>name</th>\n",
              "      <th>age</th>\n",
              "      <th>sallary</th>\n",
              "      <th>yeni_feature</th>\n",
              "      <th>sallarylevel</th>\n",
              "    </tr>\n",
              "  </thead>\n",
              "  <tbody>\n",
              "    <tr>\n",
              "      <th>0</th>\n",
              "      <td>Ali</td>\n",
              "      <td>15</td>\n",
              "      <td>100</td>\n",
              "      <td>-1</td>\n",
              "      <td>Low Sallary</td>\n",
              "    </tr>\n",
              "    <tr>\n",
              "      <th>1</th>\n",
              "      <td>Veli</td>\n",
              "      <td>16</td>\n",
              "      <td>150</td>\n",
              "      <td>-2</td>\n",
              "      <td>Low Sallary</td>\n",
              "    </tr>\n",
              "    <tr>\n",
              "      <th>2</th>\n",
              "      <td>Kenan</td>\n",
              "      <td>17</td>\n",
              "      <td>155</td>\n",
              "      <td>-3</td>\n",
              "      <td>Low Sallary</td>\n",
              "    </tr>\n",
              "    <tr>\n",
              "      <th>3</th>\n",
              "      <td>Furkan</td>\n",
              "      <td>33</td>\n",
              "      <td>240</td>\n",
              "      <td>-4</td>\n",
              "      <td>High Sallary</td>\n",
              "    </tr>\n",
              "    <tr>\n",
              "      <th>4</th>\n",
              "      <td>Hilal</td>\n",
              "      <td>45</td>\n",
              "      <td>350</td>\n",
              "      <td>-5</td>\n",
              "      <td>High Sallary</td>\n",
              "    </tr>\n",
              "    <tr>\n",
              "      <th>5</th>\n",
              "      <td>Evren</td>\n",
              "      <td>66</td>\n",
              "      <td>229</td>\n",
              "      <td>-6</td>\n",
              "      <td>High Sallary</td>\n",
              "    </tr>\n",
              "  </tbody>\n",
              "</table>\n",
              "</div>"
            ],
            "text/plain": [
              "     name  age  sallary  yeni_feature  sallarylevel\n",
              "0     Ali   15      100            -1   Low Sallary\n",
              "1    Veli   16      150            -2   Low Sallary\n",
              "2   Kenan   17      155            -3   Low Sallary\n",
              "3  Furkan   33      240            -4  High Sallary\n",
              "4   Hilal   45      350            -5  High Sallary\n",
              "5   Evren   66      229            -6  High Sallary"
            ]
          },
          "metadata": {},
          "execution_count": 160
        }
      ]
    },
    {
      "cell_type": "code",
      "metadata": {
        "colab": {
          "base_uri": "https://localhost:8080/",
          "height": 235
        },
        "id": "m0zrYb-yTXa_",
        "outputId": "9d567dd6-c3ba-451d-852b-3518f3309c64"
      },
      "source": [
        "dataFrame1.drop([\"yeni_feature\"],axis=1) # axis=1 demek yukarıdan aşağıya yani sütünü, axis=0 olsaydı soldan sağa yani satırı kapsayacaktı, drop ile yaparsak o anlık göstermez \n"
      ],
      "execution_count": null,
      "outputs": [
        {
          "output_type": "execute_result",
          "data": {
            "text/html": [
              "<div>\n",
              "<style scoped>\n",
              "    .dataframe tbody tr th:only-of-type {\n",
              "        vertical-align: middle;\n",
              "    }\n",
              "\n",
              "    .dataframe tbody tr th {\n",
              "        vertical-align: top;\n",
              "    }\n",
              "\n",
              "    .dataframe thead th {\n",
              "        text-align: right;\n",
              "    }\n",
              "</style>\n",
              "<table border=\"1\" class=\"dataframe\">\n",
              "  <thead>\n",
              "    <tr style=\"text-align: right;\">\n",
              "      <th></th>\n",
              "      <th>name</th>\n",
              "      <th>age</th>\n",
              "      <th>sallary</th>\n",
              "      <th>sallarylevel</th>\n",
              "    </tr>\n",
              "  </thead>\n",
              "  <tbody>\n",
              "    <tr>\n",
              "      <th>0</th>\n",
              "      <td>Ali</td>\n",
              "      <td>15</td>\n",
              "      <td>100</td>\n",
              "      <td>Low Sallary</td>\n",
              "    </tr>\n",
              "    <tr>\n",
              "      <th>1</th>\n",
              "      <td>Veli</td>\n",
              "      <td>16</td>\n",
              "      <td>150</td>\n",
              "      <td>Low Sallary</td>\n",
              "    </tr>\n",
              "    <tr>\n",
              "      <th>2</th>\n",
              "      <td>Kenan</td>\n",
              "      <td>17</td>\n",
              "      <td>155</td>\n",
              "      <td>Low Sallary</td>\n",
              "    </tr>\n",
              "    <tr>\n",
              "      <th>3</th>\n",
              "      <td>Furkan</td>\n",
              "      <td>33</td>\n",
              "      <td>240</td>\n",
              "      <td>High Sallary</td>\n",
              "    </tr>\n",
              "    <tr>\n",
              "      <th>4</th>\n",
              "      <td>Hilal</td>\n",
              "      <td>45</td>\n",
              "      <td>350</td>\n",
              "      <td>High Sallary</td>\n",
              "    </tr>\n",
              "    <tr>\n",
              "      <th>5</th>\n",
              "      <td>Evren</td>\n",
              "      <td>66</td>\n",
              "      <td>229</td>\n",
              "      <td>High Sallary</td>\n",
              "    </tr>\n",
              "  </tbody>\n",
              "</table>\n",
              "</div>"
            ],
            "text/plain": [
              "     name  age  sallary  sallarylevel\n",
              "0     Ali   15      100   Low Sallary\n",
              "1    Veli   16      150   Low Sallary\n",
              "2   Kenan   17      155   Low Sallary\n",
              "3  Furkan   33      240  High Sallary\n",
              "4   Hilal   45      350  High Sallary\n",
              "5   Evren   66      229  High Sallary"
            ]
          },
          "metadata": {},
          "execution_count": 161
        }
      ]
    },
    {
      "cell_type": "code",
      "metadata": {
        "colab": {
          "base_uri": "https://localhost:8080/"
        },
        "id": "WsfrQ3xLUHAw",
        "outputId": "c26ba8f3-c8fd-4e7a-b8a8-e6db0764cfb2"
      },
      "source": [
        "# Fakat drop işlemi yaparkan \"inplace=True\" kısmını eklersek kalıcı olarak silecek\n",
        "print(\"Eski DataFrame1\")\n",
        "print(dataFrame1)\n",
        "dataFrame1.drop([\"yeni_feature\"],axis=1,inplace=True)\n",
        "print(\"Eski DataFrame1\")\n",
        "print(dataFrame1)"
      ],
      "execution_count": null,
      "outputs": [
        {
          "output_type": "stream",
          "name": "stdout",
          "text": [
            "Eski DataFrame1\n",
            "     name  age  sallary  yeni_feature  sallarylevel\n",
            "0     Ali   15      100            -1   Low Sallary\n",
            "1    Veli   16      150            -2   Low Sallary\n",
            "2   Kenan   17      155            -3   Low Sallary\n",
            "3  Furkan   33      240            -4  High Sallary\n",
            "4   Hilal   45      350            -5  High Sallary\n",
            "5   Evren   66      229            -6  High Sallary\n",
            "Eski DataFrame1\n",
            "     name  age  sallary  sallarylevel\n",
            "0     Ali   15      100   Low Sallary\n",
            "1    Veli   16      150   Low Sallary\n",
            "2   Kenan   17      155   Low Sallary\n",
            "3  Furkan   33      240  High Sallary\n",
            "4   Hilal   45      350  High Sallary\n",
            "5   Evren   66      229  High Sallary\n"
          ]
        }
      ]
    },
    {
      "cell_type": "code",
      "metadata": {
        "colab": {
          "base_uri": "https://localhost:8080/",
          "height": 359
        },
        "id": "MTSaPXeeVhaM",
        "outputId": "5f60e1f4-edb7-48bc-f11d-f15e87a247a9"
      },
      "source": [
        "data1=dataFrame1.head()\n",
        "data2=dataFrame1.tail()\n",
        "#Dikey olarak birleştirelim\n",
        "dataConcat=pd.concat([data1,data2],axis=0)\n",
        "dataConcat"
      ],
      "execution_count": null,
      "outputs": [
        {
          "output_type": "execute_result",
          "data": {
            "text/html": [
              "<div>\n",
              "<style scoped>\n",
              "    .dataframe tbody tr th:only-of-type {\n",
              "        vertical-align: middle;\n",
              "    }\n",
              "\n",
              "    .dataframe tbody tr th {\n",
              "        vertical-align: top;\n",
              "    }\n",
              "\n",
              "    .dataframe thead th {\n",
              "        text-align: right;\n",
              "    }\n",
              "</style>\n",
              "<table border=\"1\" class=\"dataframe\">\n",
              "  <thead>\n",
              "    <tr style=\"text-align: right;\">\n",
              "      <th></th>\n",
              "      <th>name</th>\n",
              "      <th>age</th>\n",
              "      <th>sallary</th>\n",
              "      <th>sallarylevel</th>\n",
              "    </tr>\n",
              "  </thead>\n",
              "  <tbody>\n",
              "    <tr>\n",
              "      <th>0</th>\n",
              "      <td>Ali</td>\n",
              "      <td>15</td>\n",
              "      <td>100</td>\n",
              "      <td>Low Sallary</td>\n",
              "    </tr>\n",
              "    <tr>\n",
              "      <th>1</th>\n",
              "      <td>Veli</td>\n",
              "      <td>16</td>\n",
              "      <td>150</td>\n",
              "      <td>Low Sallary</td>\n",
              "    </tr>\n",
              "    <tr>\n",
              "      <th>2</th>\n",
              "      <td>Kenan</td>\n",
              "      <td>17</td>\n",
              "      <td>155</td>\n",
              "      <td>Low Sallary</td>\n",
              "    </tr>\n",
              "    <tr>\n",
              "      <th>3</th>\n",
              "      <td>Furkan</td>\n",
              "      <td>33</td>\n",
              "      <td>240</td>\n",
              "      <td>High Sallary</td>\n",
              "    </tr>\n",
              "    <tr>\n",
              "      <th>4</th>\n",
              "      <td>Hilal</td>\n",
              "      <td>45</td>\n",
              "      <td>350</td>\n",
              "      <td>High Sallary</td>\n",
              "    </tr>\n",
              "    <tr>\n",
              "      <th>1</th>\n",
              "      <td>Veli</td>\n",
              "      <td>16</td>\n",
              "      <td>150</td>\n",
              "      <td>Low Sallary</td>\n",
              "    </tr>\n",
              "    <tr>\n",
              "      <th>2</th>\n",
              "      <td>Kenan</td>\n",
              "      <td>17</td>\n",
              "      <td>155</td>\n",
              "      <td>Low Sallary</td>\n",
              "    </tr>\n",
              "    <tr>\n",
              "      <th>3</th>\n",
              "      <td>Furkan</td>\n",
              "      <td>33</td>\n",
              "      <td>240</td>\n",
              "      <td>High Sallary</td>\n",
              "    </tr>\n",
              "    <tr>\n",
              "      <th>4</th>\n",
              "      <td>Hilal</td>\n",
              "      <td>45</td>\n",
              "      <td>350</td>\n",
              "      <td>High Sallary</td>\n",
              "    </tr>\n",
              "    <tr>\n",
              "      <th>5</th>\n",
              "      <td>Evren</td>\n",
              "      <td>66</td>\n",
              "      <td>229</td>\n",
              "      <td>High Sallary</td>\n",
              "    </tr>\n",
              "  </tbody>\n",
              "</table>\n",
              "</div>"
            ],
            "text/plain": [
              "     name  age  sallary  sallarylevel\n",
              "0     Ali   15      100   Low Sallary\n",
              "1    Veli   16      150   Low Sallary\n",
              "2   Kenan   17      155   Low Sallary\n",
              "3  Furkan   33      240  High Sallary\n",
              "4   Hilal   45      350  High Sallary\n",
              "1    Veli   16      150   Low Sallary\n",
              "2   Kenan   17      155   Low Sallary\n",
              "3  Furkan   33      240  High Sallary\n",
              "4   Hilal   45      350  High Sallary\n",
              "5   Evren   66      229  High Sallary"
            ]
          },
          "metadata": {},
          "execution_count": 163
        }
      ]
    },
    {
      "cell_type": "code",
      "metadata": {
        "id": "XqE61oUPWm9v"
      },
      "source": [
        "sallary=dataFrame1.sallary\n",
        "age=dataFrame1.age\n",
        "#Yatay olarak birleştirelim\n",
        "dataHConcat=pd.concat([age,sallary],axis=1)\n"
      ],
      "execution_count": null,
      "outputs": []
    },
    {
      "cell_type": "code",
      "metadata": {
        "colab": {
          "base_uri": "https://localhost:8080/",
          "height": 235
        },
        "id": "v7WTWMd9W_xj",
        "outputId": "3e142075-12b7-4879-921f-89d873d62051"
      },
      "source": [
        "dataHConcat"
      ],
      "execution_count": null,
      "outputs": [
        {
          "output_type": "execute_result",
          "data": {
            "text/html": [
              "<div>\n",
              "<style scoped>\n",
              "    .dataframe tbody tr th:only-of-type {\n",
              "        vertical-align: middle;\n",
              "    }\n",
              "\n",
              "    .dataframe tbody tr th {\n",
              "        vertical-align: top;\n",
              "    }\n",
              "\n",
              "    .dataframe thead th {\n",
              "        text-align: right;\n",
              "    }\n",
              "</style>\n",
              "<table border=\"1\" class=\"dataframe\">\n",
              "  <thead>\n",
              "    <tr style=\"text-align: right;\">\n",
              "      <th></th>\n",
              "      <th>age</th>\n",
              "      <th>sallary</th>\n",
              "    </tr>\n",
              "  </thead>\n",
              "  <tbody>\n",
              "    <tr>\n",
              "      <th>0</th>\n",
              "      <td>15</td>\n",
              "      <td>100</td>\n",
              "    </tr>\n",
              "    <tr>\n",
              "      <th>1</th>\n",
              "      <td>16</td>\n",
              "      <td>150</td>\n",
              "    </tr>\n",
              "    <tr>\n",
              "      <th>2</th>\n",
              "      <td>17</td>\n",
              "      <td>155</td>\n",
              "    </tr>\n",
              "    <tr>\n",
              "      <th>3</th>\n",
              "      <td>33</td>\n",
              "      <td>240</td>\n",
              "    </tr>\n",
              "    <tr>\n",
              "      <th>4</th>\n",
              "      <td>45</td>\n",
              "      <td>350</td>\n",
              "    </tr>\n",
              "    <tr>\n",
              "      <th>5</th>\n",
              "      <td>66</td>\n",
              "      <td>229</td>\n",
              "    </tr>\n",
              "  </tbody>\n",
              "</table>\n",
              "</div>"
            ],
            "text/plain": [
              "   age  sallary\n",
              "0   15      100\n",
              "1   16      150\n",
              "2   17      155\n",
              "3   33      240\n",
              "4   45      350\n",
              "5   66      229"
            ]
          },
          "metadata": {},
          "execution_count": 165
        }
      ]
    },
    {
      "cell_type": "code",
      "metadata": {
        "id": "gqzhFCo_XCvH"
      },
      "source": [
        "#------------TRANSFORMING DATA------------ "
      ],
      "execution_count": null,
      "outputs": []
    },
    {
      "cell_type": "code",
      "metadata": {
        "colab": {
          "base_uri": "https://localhost:8080/",
          "height": 235
        },
        "id": "lbbTbucxXsMh",
        "outputId": "dff9b8a6-12a1-4250-bc8b-4bcc6c668b27"
      },
      "source": [
        "dataFrame1[\"list_comp\"]=[ each*2 for each in dataFrame1.age]\n",
        "dataFrame1"
      ],
      "execution_count": null,
      "outputs": [
        {
          "output_type": "execute_result",
          "data": {
            "text/html": [
              "<div>\n",
              "<style scoped>\n",
              "    .dataframe tbody tr th:only-of-type {\n",
              "        vertical-align: middle;\n",
              "    }\n",
              "\n",
              "    .dataframe tbody tr th {\n",
              "        vertical-align: top;\n",
              "    }\n",
              "\n",
              "    .dataframe thead th {\n",
              "        text-align: right;\n",
              "    }\n",
              "</style>\n",
              "<table border=\"1\" class=\"dataframe\">\n",
              "  <thead>\n",
              "    <tr style=\"text-align: right;\">\n",
              "      <th></th>\n",
              "      <th>name</th>\n",
              "      <th>age</th>\n",
              "      <th>sallary</th>\n",
              "      <th>sallarylevel</th>\n",
              "      <th>list_comp</th>\n",
              "    </tr>\n",
              "  </thead>\n",
              "  <tbody>\n",
              "    <tr>\n",
              "      <th>0</th>\n",
              "      <td>Ali</td>\n",
              "      <td>15</td>\n",
              "      <td>100</td>\n",
              "      <td>Low Sallary</td>\n",
              "      <td>30</td>\n",
              "    </tr>\n",
              "    <tr>\n",
              "      <th>1</th>\n",
              "      <td>Veli</td>\n",
              "      <td>16</td>\n",
              "      <td>150</td>\n",
              "      <td>Low Sallary</td>\n",
              "      <td>32</td>\n",
              "    </tr>\n",
              "    <tr>\n",
              "      <th>2</th>\n",
              "      <td>Kenan</td>\n",
              "      <td>17</td>\n",
              "      <td>155</td>\n",
              "      <td>Low Sallary</td>\n",
              "      <td>34</td>\n",
              "    </tr>\n",
              "    <tr>\n",
              "      <th>3</th>\n",
              "      <td>Furkan</td>\n",
              "      <td>33</td>\n",
              "      <td>240</td>\n",
              "      <td>High Sallary</td>\n",
              "      <td>66</td>\n",
              "    </tr>\n",
              "    <tr>\n",
              "      <th>4</th>\n",
              "      <td>Hilal</td>\n",
              "      <td>45</td>\n",
              "      <td>350</td>\n",
              "      <td>High Sallary</td>\n",
              "      <td>90</td>\n",
              "    </tr>\n",
              "    <tr>\n",
              "      <th>5</th>\n",
              "      <td>Evren</td>\n",
              "      <td>66</td>\n",
              "      <td>229</td>\n",
              "      <td>High Sallary</td>\n",
              "      <td>132</td>\n",
              "    </tr>\n",
              "  </tbody>\n",
              "</table>\n",
              "</div>"
            ],
            "text/plain": [
              "     name  age  sallary  sallarylevel  list_comp\n",
              "0     Ali   15      100   Low Sallary         30\n",
              "1    Veli   16      150   Low Sallary         32\n",
              "2   Kenan   17      155   Low Sallary         34\n",
              "3  Furkan   33      240  High Sallary         66\n",
              "4   Hilal   45      350  High Sallary         90\n",
              "5   Evren   66      229  High Sallary        132"
            ]
          },
          "metadata": {},
          "execution_count": 168
        }
      ]
    },
    {
      "cell_type": "code",
      "metadata": {
        "id": "5fgA49r5X1lm"
      },
      "source": [
        "def multiply(age):\n",
        "  return age*2\n",
        "\n",
        "dataFrame1[\"apply_metodu\"] = dataFrame1.age.apply(multiply)\n",
        "\n"
      ],
      "execution_count": null,
      "outputs": []
    },
    {
      "cell_type": "code",
      "metadata": {
        "colab": {
          "base_uri": "https://localhost:8080/",
          "height": 235
        },
        "id": "qPXzKf_JYR2W",
        "outputId": "7b209abf-5792-4f5a-8ce0-ffa5c2fcd2d6"
      },
      "source": [
        "dataFrame1"
      ],
      "execution_count": null,
      "outputs": [
        {
          "output_type": "execute_result",
          "data": {
            "text/html": [
              "<div>\n",
              "<style scoped>\n",
              "    .dataframe tbody tr th:only-of-type {\n",
              "        vertical-align: middle;\n",
              "    }\n",
              "\n",
              "    .dataframe tbody tr th {\n",
              "        vertical-align: top;\n",
              "    }\n",
              "\n",
              "    .dataframe thead th {\n",
              "        text-align: right;\n",
              "    }\n",
              "</style>\n",
              "<table border=\"1\" class=\"dataframe\">\n",
              "  <thead>\n",
              "    <tr style=\"text-align: right;\">\n",
              "      <th></th>\n",
              "      <th>name</th>\n",
              "      <th>age</th>\n",
              "      <th>sallary</th>\n",
              "      <th>sallarylevel</th>\n",
              "      <th>list_comp</th>\n",
              "      <th>apply_metodu</th>\n",
              "    </tr>\n",
              "  </thead>\n",
              "  <tbody>\n",
              "    <tr>\n",
              "      <th>0</th>\n",
              "      <td>Ali</td>\n",
              "      <td>15</td>\n",
              "      <td>100</td>\n",
              "      <td>Low Sallary</td>\n",
              "      <td>30</td>\n",
              "      <td>30</td>\n",
              "    </tr>\n",
              "    <tr>\n",
              "      <th>1</th>\n",
              "      <td>Veli</td>\n",
              "      <td>16</td>\n",
              "      <td>150</td>\n",
              "      <td>Low Sallary</td>\n",
              "      <td>32</td>\n",
              "      <td>32</td>\n",
              "    </tr>\n",
              "    <tr>\n",
              "      <th>2</th>\n",
              "      <td>Kenan</td>\n",
              "      <td>17</td>\n",
              "      <td>155</td>\n",
              "      <td>Low Sallary</td>\n",
              "      <td>34</td>\n",
              "      <td>34</td>\n",
              "    </tr>\n",
              "    <tr>\n",
              "      <th>3</th>\n",
              "      <td>Furkan</td>\n",
              "      <td>33</td>\n",
              "      <td>240</td>\n",
              "      <td>High Sallary</td>\n",
              "      <td>66</td>\n",
              "      <td>66</td>\n",
              "    </tr>\n",
              "    <tr>\n",
              "      <th>4</th>\n",
              "      <td>Hilal</td>\n",
              "      <td>45</td>\n",
              "      <td>350</td>\n",
              "      <td>High Sallary</td>\n",
              "      <td>90</td>\n",
              "      <td>90</td>\n",
              "    </tr>\n",
              "    <tr>\n",
              "      <th>5</th>\n",
              "      <td>Evren</td>\n",
              "      <td>66</td>\n",
              "      <td>229</td>\n",
              "      <td>High Sallary</td>\n",
              "      <td>132</td>\n",
              "      <td>132</td>\n",
              "    </tr>\n",
              "  </tbody>\n",
              "</table>\n",
              "</div>"
            ],
            "text/plain": [
              "     name  age  sallary  sallarylevel  list_comp  apply_metodu\n",
              "0     Ali   15      100   Low Sallary         30            30\n",
              "1    Veli   16      150   Low Sallary         32            32\n",
              "2   Kenan   17      155   Low Sallary         34            34\n",
              "3  Furkan   33      240  High Sallary         66            66\n",
              "4   Hilal   45      350  High Sallary         90            90\n",
              "5   Evren   66      229  High Sallary        132           132"
            ]
          },
          "metadata": {},
          "execution_count": 175
        }
      ]
    },
    {
      "cell_type": "code",
      "metadata": {
        "id": "TlNVnkmEYflu"
      },
      "source": [
        ""
      ],
      "execution_count": null,
      "outputs": []
    }
  ]
}