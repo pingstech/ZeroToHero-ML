{
  "nbformat": 4,
  "nbformat_minor": 0,
  "metadata": {
    "colab": {
      "name": "03-NumpyDenemeler.ipynb",
      "provenance": [],
      "collapsed_sections": [],
      "authorship_tag": "ABX9TyNaNF0RqFFKbmpIse2BYVYG",
      "include_colab_link": true
    },
    "kernelspec": {
      "name": "python3",
      "display_name": "Python 3"
    },
    "language_info": {
      "name": "python"
    }
  },
  "cells": [
    {
      "cell_type": "markdown",
      "metadata": {
        "id": "view-in-github",
        "colab_type": "text"
      },
      "source": [
        "<a href=\"https://colab.research.google.com/github/pingstech/ZeroToHero-ML/blob/main/03_NumpyDenemeler.ipynb\" target=\"_parent\"><img src=\"https://colab.research.google.com/assets/colab-badge.svg\" alt=\"Open In Colab\"/></a>"
      ]
    },
    {
      "cell_type": "code",
      "metadata": {
        "id": "uDD55s7mAR8s"
      },
      "source": [
        "import numpy as np"
      ],
      "execution_count": null,
      "outputs": []
    },
    {
      "cell_type": "code",
      "metadata": {
        "colab": {
          "base_uri": "https://localhost:8080/"
        },
        "id": "_WGBXF5XCiB3",
        "outputId": "bccc231f-b85c-4198-f9c1-612be9fddf0e"
      },
      "source": [
        "array=np.array([1,2,3,5]) #1x4 lük vektör oluşturduk\n",
        "array"
      ],
      "execution_count": null,
      "outputs": [
        {
          "output_type": "execute_result",
          "data": {
            "text/plain": [
              "array([1, 2, 3, 5])"
            ]
          },
          "metadata": {
            "tags": []
          },
          "execution_count": 4
        }
      ]
    },
    {
      "cell_type": "code",
      "metadata": {
        "colab": {
          "base_uri": "https://localhost:8080/"
        },
        "id": "lpjbMJzwCmal",
        "outputId": "29b98f39-36a8-4f60-dfbf-4a6b92a24be4"
      },
      "source": [
        "print(array.shape)"
      ],
      "execution_count": null,
      "outputs": [
        {
          "output_type": "stream",
          "text": [
            "(4,)\n"
          ],
          "name": "stdout"
        }
      ]
    },
    {
      "cell_type": "code",
      "metadata": {
        "colab": {
          "base_uri": "https://localhost:8080/"
        },
        "id": "YhwOD2lmCnZC",
        "outputId": "16e534f6-2db5-483e-8c29-d28f43cd6440"
      },
      "source": [
        "temp_array=array.reshape(2,2)\n",
        "temp_array"
      ],
      "execution_count": null,
      "outputs": [
        {
          "output_type": "execute_result",
          "data": {
            "text/plain": [
              "array([[1, 2],\n",
              "       [3, 5]])"
            ]
          },
          "metadata": {
            "tags": []
          },
          "execution_count": 8
        }
      ]
    },
    {
      "cell_type": "code",
      "metadata": {
        "colab": {
          "base_uri": "https://localhost:8080/"
        },
        "id": "F1Y4AETtC_xm",
        "outputId": "2f5ec74b-f5de-44d2-b844-0847ee8cb088"
      },
      "source": [
        "print(\"Yeni array satır sütüun sayısı : \",temp_array.shape)\n",
        "print(\"Yeni array boyutu:\",temp_array.ndim)"
      ],
      "execution_count": null,
      "outputs": [
        {
          "output_type": "stream",
          "text": [
            "Yeni array satır sütüun sayısı :  (2, 2)\n",
            "Yeni array boyutu: 2\n"
          ],
          "name": "stdout"
        }
      ]
    },
    {
      "cell_type": "code",
      "metadata": {
        "colab": {
          "base_uri": "https://localhost:8080/"
        },
        "id": "NiFQAsAxDlv_",
        "outputId": "fea5db38-357d-48e9-bb2e-74e57bc3c351"
      },
      "source": [
        "print(\"Veri tipi\",temp_array.dtype.name)  "
      ],
      "execution_count": null,
      "outputs": [
        {
          "output_type": "stream",
          "text": [
            "Veri tipi int64\n"
          ],
          "name": "stdout"
        }
      ]
    },
    {
      "cell_type": "code",
      "metadata": {
        "colab": {
          "base_uri": "https://localhost:8080/"
        },
        "id": "V80NW6fmDwWj",
        "outputId": "24185f83-043a-4424-fdcb-e662016d094c"
      },
      "source": [
        "print(\"Ölçüsü:\",temp_array.size)"
      ],
      "execution_count": null,
      "outputs": [
        {
          "output_type": "stream",
          "text": [
            "Ölçüsü: 4\n"
          ],
          "name": "stdout"
        }
      ]
    },
    {
      "cell_type": "code",
      "metadata": {
        "colab": {
          "base_uri": "https://localhost:8080/"
        },
        "id": "ozqKMvexD1f2",
        "outputId": "8fd7963a-e648-4cf9-c077-b6e4c4c12262"
      },
      "source": [
        "print(\"tipi:\",type(temp_array))"
      ],
      "execution_count": null,
      "outputs": [
        {
          "output_type": "stream",
          "text": [
            "tipi: <class 'numpy.ndarray'>\n"
          ],
          "name": "stdout"
        }
      ]
    },
    {
      "cell_type": "code",
      "metadata": {
        "colab": {
          "base_uri": "https://localhost:8080/"
        },
        "id": "thGUwBEJEAIw",
        "outputId": "5e67db63-227a-4710-9480-01f4405c76cf"
      },
      "source": [
        "array2=np.array([[1,2,3],[4,5,6],[7,8,9]])\n",
        "array2"
      ],
      "execution_count": null,
      "outputs": [
        {
          "output_type": "execute_result",
          "data": {
            "text/plain": [
              "array([[1, 2, 3],\n",
              "       [4, 5, 6],\n",
              "       [7, 8, 9]])"
            ]
          },
          "metadata": {
            "tags": []
          },
          "execution_count": 16
        }
      ]
    },
    {
      "cell_type": "code",
      "metadata": {
        "colab": {
          "base_uri": "https://localhost:8080/"
        },
        "id": "1Z4FcyFMEJ2u",
        "outputId": "9f2132c8-b347-489f-d9a7-9a134a505118"
      },
      "source": [
        "zeros=np.zeros((3,4))\n",
        "zeros"
      ],
      "execution_count": null,
      "outputs": [
        {
          "output_type": "execute_result",
          "data": {
            "text/plain": [
              "array([[0., 0., 0., 0.],\n",
              "       [0., 0., 0., 0.],\n",
              "       [0., 0., 0., 0.]])"
            ]
          },
          "metadata": {
            "tags": []
          },
          "execution_count": 17
        }
      ]
    },
    {
      "cell_type": "code",
      "metadata": {
        "colab": {
          "base_uri": "https://localhost:8080/"
        },
        "id": "o4Eld9QSEWI_",
        "outputId": "b320e638-a0ee-40e1-9b2d-a59046a89430"
      },
      "source": [
        "zeros[0,0]=5\n",
        "print(\"Yeni matrix:\",zeros)"
      ],
      "execution_count": null,
      "outputs": [
        {
          "output_type": "stream",
          "text": [
            "Yeni matrix: [[5. 0. 0. 0.]\n",
            " [0. 0. 0. 0.]\n",
            " [0. 0. 0. 0.]]\n"
          ],
          "name": "stdout"
        }
      ]
    },
    {
      "cell_type": "code",
      "metadata": {
        "colab": {
          "base_uri": "https://localhost:8080/"
        },
        "id": "32VdDuK9Efd2",
        "outputId": "33050d52-9584-4c51-818c-ccf06e25580b"
      },
      "source": [
        "ones=np.ones((3,4))\n",
        "ones"
      ],
      "execution_count": null,
      "outputs": [
        {
          "output_type": "execute_result",
          "data": {
            "text/plain": [
              "array([[1., 1., 1., 1.],\n",
              "       [1., 1., 1., 1.],\n",
              "       [1., 1., 1., 1.]])"
            ]
          },
          "metadata": {
            "tags": []
          },
          "execution_count": 19
        }
      ]
    },
    {
      "cell_type": "code",
      "metadata": {
        "colab": {
          "base_uri": "https://localhost:8080/"
        },
        "id": "6xvCPO6UEjwt",
        "outputId": "107f3dd2-0c7d-4cea-b1df-16e85c752184"
      },
      "source": [
        "empty_array=np.empty((3,4))\n",
        "empty_array"
      ],
      "execution_count": null,
      "outputs": [
        {
          "output_type": "execute_result",
          "data": {
            "text/plain": [
              "array([[1., 1., 1., 1.],\n",
              "       [1., 1., 1., 1.],\n",
              "       [1., 1., 1., 1.]])"
            ]
          },
          "metadata": {
            "tags": []
          },
          "execution_count": 21
        }
      ]
    },
    {
      "cell_type": "code",
      "metadata": {
        "colab": {
          "base_uri": "https://localhost:8080/"
        },
        "id": "OoNQtb3YEo0L",
        "outputId": "9ca03af3-861f-4a5e-8567-39a261f19acf"
      },
      "source": [
        "temp_array2=np.arange(10,50,5)\n",
        "temp_array2"
      ],
      "execution_count": null,
      "outputs": [
        {
          "output_type": "execute_result",
          "data": {
            "text/plain": [
              "array([10, 15, 20, 25, 30, 35, 40, 45])"
            ]
          },
          "metadata": {
            "tags": []
          },
          "execution_count": 23
        }
      ]
    },
    {
      "cell_type": "code",
      "metadata": {
        "colab": {
          "base_uri": "https://localhost:8080/"
        },
        "id": "p3GkWq3mEyrx",
        "outputId": "f005534c-2a75-4f71-8f3d-b59384752a74"
      },
      "source": [
        "temp_array3=np.linspace(10,50,20) # 10 dan 50 ye kadar 50 dahil sayı yazar\n",
        "temp_array3"
      ],
      "execution_count": null,
      "outputs": [
        {
          "output_type": "execute_result",
          "data": {
            "text/plain": [
              "array([10.        , 12.10526316, 14.21052632, 16.31578947, 18.42105263,\n",
              "       20.52631579, 22.63157895, 24.73684211, 26.84210526, 28.94736842,\n",
              "       31.05263158, 33.15789474, 35.26315789, 37.36842105, 39.47368421,\n",
              "       41.57894737, 43.68421053, 45.78947368, 47.89473684, 50.        ])"
            ]
          },
          "metadata": {
            "tags": []
          },
          "execution_count": 24
        }
      ]
    },
    {
      "cell_type": "code",
      "metadata": {
        "id": "tSvDn5q3FNAz"
      },
      "source": [
        "#------------------ NUMPY BASİC OPERATİONS  ------------------"
      ],
      "execution_count": null,
      "outputs": []
    },
    {
      "cell_type": "code",
      "metadata": {
        "colab": {
          "base_uri": "https://localhost:8080/"
        },
        "id": "R4y1KHQXFap7",
        "outputId": "f88c63e9-cbdc-4795-f856-bb4d278ff8f0"
      },
      "source": [
        "temp_array=np.array([1,2,3])\n",
        "temp_array2=np.array([4,5,6])\n",
        "\n",
        "print(\"Sum of Array:\",temp_array+temp_array2)\n",
        "print(\"Subtract of Array:\",temp_array-temp_array2)\n",
        "print(\"Multiple of Array:\",temp_array*temp_array2)\n",
        "print(\"Power of Array:\",temp_array**temp_array2)"
      ],
      "execution_count": null,
      "outputs": [
        {
          "output_type": "stream",
          "text": [
            "Sum of Array: [5 7 9]\n",
            "Subtract of Array: [-3 -3 -3]\n",
            "Multiple of Array: [ 4 10 18]\n",
            "Power of Array: [  1  32 729]\n"
          ],
          "name": "stdout"
        }
      ]
    },
    {
      "cell_type": "code",
      "metadata": {
        "colab": {
          "base_uri": "https://localhost:8080/"
        },
        "id": "KyUoMkJ0F59B",
        "outputId": "f88fc44c-764e-41d9-809e-7499ba8cb8fc"
      },
      "source": [
        "print(np.sin(temp_array))"
      ],
      "execution_count": null,
      "outputs": [
        {
          "output_type": "stream",
          "text": [
            "[0.84147098 0.90929743 0.14112001]\n"
          ],
          "name": "stdout"
        }
      ]
    },
    {
      "cell_type": "code",
      "metadata": {
        "colab": {
          "base_uri": "https://localhost:8080/"
        },
        "id": "BNh6D69JF-GU",
        "outputId": "2ead5476-ff01-49f8-a42f-3d206fbe951e"
      },
      "source": [
        "print(temp_array<2)"
      ],
      "execution_count": null,
      "outputs": [
        {
          "output_type": "stream",
          "text": [
            "[ True False False]\n"
          ],
          "name": "stdout"
        }
      ]
    },
    {
      "cell_type": "code",
      "metadata": {
        "colab": {
          "base_uri": "https://localhost:8080/"
        },
        "id": "NsqST0NoGDZ1",
        "outputId": "97363021-8ce7-4edc-a97c-e8d6e62f846a"
      },
      "source": [
        "temp_array.dot(temp_array2)"
      ],
      "execution_count": null,
      "outputs": [
        {
          "output_type": "execute_result",
          "data": {
            "text/plain": [
              "32"
            ]
          },
          "metadata": {
            "tags": []
          },
          "execution_count": 33
        }
      ]
    },
    {
      "cell_type": "code",
      "metadata": {
        "id": "Cl8wxZMEGOTD"
      },
      "source": [
        "temp_array=np.array([[1,2,3],[4,5,6]])\n",
        "temp_array2=np.array([[1,2,3],[4,5,6]])"
      ],
      "execution_count": null,
      "outputs": []
    },
    {
      "cell_type": "code",
      "metadata": {
        "colab": {
          "base_uri": "https://localhost:8080/",
          "height": 163
        },
        "id": "2SQ4DEQtG3sA",
        "outputId": "362535f6-6428-484c-c75d-cddd70418c99"
      },
      "source": [
        "temp_array.dot(temp_array2) # satır sütün uyumsuzluğu olduğu için olmadı \"temp_array2\" nin transpozunu alarak bu durumu düzelticez"
      ],
      "execution_count": null,
      "outputs": [
        {
          "output_type": "error",
          "ename": "ValueError",
          "evalue": "ignored",
          "traceback": [
            "\u001b[0;31m---------------------------------------------------------------------------\u001b[0m",
            "\u001b[0;31mValueError\u001b[0m                                Traceback (most recent call last)",
            "\u001b[0;32m<ipython-input-35-55e9e151394c>\u001b[0m in \u001b[0;36m<module>\u001b[0;34m()\u001b[0m\n\u001b[0;32m----> 1\u001b[0;31m \u001b[0mtemp_array\u001b[0m\u001b[0;34m.\u001b[0m\u001b[0mdot\u001b[0m\u001b[0;34m(\u001b[0m\u001b[0mtemp_array2\u001b[0m\u001b[0;34m)\u001b[0m\u001b[0;34m\u001b[0m\u001b[0;34m\u001b[0m\u001b[0m\n\u001b[0m",
            "\u001b[0;31mValueError\u001b[0m: shapes (2,3) and (2,3) not aligned: 3 (dim 1) != 2 (dim 0)"
          ]
        }
      ]
    },
    {
      "cell_type": "code",
      "metadata": {
        "colab": {
          "base_uri": "https://localhost:8080/"
        },
        "id": "l_tqnvO5G8XA",
        "outputId": "d6f8f544-537d-495b-fd81-ebc4323f3ec4"
      },
      "source": [
        "temp_array.dot(temp_array2.T)"
      ],
      "execution_count": null,
      "outputs": [
        {
          "output_type": "execute_result",
          "data": {
            "text/plain": [
              "array([[14, 32],\n",
              "       [32, 77]])"
            ]
          },
          "metadata": {
            "tags": []
          },
          "execution_count": 36
        }
      ]
    },
    {
      "cell_type": "code",
      "metadata": {
        "colab": {
          "base_uri": "https://localhost:8080/"
        },
        "id": "mOX4fitFHJuM",
        "outputId": "33789fa1-90d2-4d36-a26a-d512767cedbe"
      },
      "source": [
        "temp_array=np.random.random((5,5))\n",
        "temp_array"
      ],
      "execution_count": null,
      "outputs": [
        {
          "output_type": "execute_result",
          "data": {
            "text/plain": [
              "array([[0.16071816, 0.24786759, 0.28724614, 0.57751277, 0.90943629],\n",
              "       [0.49197301, 0.1410036 , 0.04714147, 0.50700771, 0.76367076],\n",
              "       [0.70630163, 0.57534854, 0.94257332, 0.31890928, 0.69545053],\n",
              "       [0.41902537, 0.6265754 , 0.59131906, 0.43656426, 0.5703372 ],\n",
              "       [0.47524122, 0.01110084, 0.53248887, 0.09477561, 0.00776377]])"
            ]
          },
          "metadata": {
            "tags": []
          },
          "execution_count": 38
        }
      ]
    },
    {
      "cell_type": "code",
      "metadata": {
        "colab": {
          "base_uri": "https://localhost:8080/"
        },
        "id": "M562ocg3HQKq",
        "outputId": "a7161366-5bb0-41f7-9f92-984d5c8ba341"
      },
      "source": [
        "temp_array.sum()"
      ],
      "execution_count": null,
      "outputs": [
        {
          "output_type": "execute_result",
          "data": {
            "text/plain": [
              "11.137352412969639"
            ]
          },
          "metadata": {
            "tags": []
          },
          "execution_count": 39
        }
      ]
    },
    {
      "cell_type": "code",
      "metadata": {
        "colab": {
          "base_uri": "https://localhost:8080/"
        },
        "id": "z56CnE3GHVpD",
        "outputId": "4f690ab0-435f-481f-cf8a-686edd95cc71"
      },
      "source": [
        "print(\"Min value of array: \",temp_array.min())\n",
        "print(\"Max value of array: \",temp_array.max())\n",
        "print(\"Sum of array: \",temp_array.sum())"
      ],
      "execution_count": null,
      "outputs": [
        {
          "output_type": "stream",
          "text": [
            "Min value of array:  0.00776377430778441\n",
            "Max value of array:  0.942573320774761\n",
            "Sum of array:  11.137352412969639\n"
          ],
          "name": "stdout"
        }
      ]
    },
    {
      "cell_type": "code",
      "metadata": {
        "colab": {
          "base_uri": "https://localhost:8080/"
        },
        "id": "BVO8OR8gHjlE",
        "outputId": "5ab1fca1-9e89-4d13-e30c-d230a8eda8ac"
      },
      "source": [
        "print(temp_array.sum(axis=0)) # sütün toplaması yapar"
      ],
      "execution_count": null,
      "outputs": [
        {
          "output_type": "stream",
          "text": [
            "[2.25325939 1.60189598 2.40076886 1.93476963 2.94665855]\n"
          ],
          "name": "stdout"
        }
      ]
    },
    {
      "cell_type": "code",
      "metadata": {
        "colab": {
          "base_uri": "https://localhost:8080/"
        },
        "id": "Im-2YBo2HvSD",
        "outputId": "51a36fc9-a195-4cbd-e2db-73d03acfca81"
      },
      "source": [
        "print(temp_array.sum(axis=1)) # satır toplaması yapar"
      ],
      "execution_count": null,
      "outputs": [
        {
          "output_type": "stream",
          "text": [
            "[2.18278095 1.95079655 3.2385833  2.64382129 1.12137032]\n"
          ],
          "name": "stdout"
        }
      ]
    },
    {
      "cell_type": "code",
      "metadata": {
        "colab": {
          "base_uri": "https://localhost:8080/"
        },
        "id": "oSfQbgTDHyh5",
        "outputId": "19514413-56bb-41de-c6fb-3278f937aea9"
      },
      "source": [
        "print(\"Karekökü: \",(np.sqrt(temp_array)))\n",
        "print(\"Karesi\",np.square(temp_array))"
      ],
      "execution_count": null,
      "outputs": [
        {
          "output_type": "stream",
          "text": [
            "Karekökü:  [[0.4008967  0.49786302 0.53595348 0.75994261 0.95364369]\n",
            " [0.70140788 0.37550446 0.21712086 0.71204474 0.87388258]\n",
            " [0.84041753 0.75851733 0.97086215 0.56472053 0.83393677]\n",
            " [0.64732169 0.79156516 0.76897273 0.6607301  0.75520672]\n",
            " [0.68937742 0.10536054 0.72971835 0.30785647 0.08811228]]\n",
            "Karesi [[2.58303282e-02 6.14383426e-02 8.25103437e-02 3.33520996e-01\n",
            "  8.27074364e-01]\n",
            " [2.42037440e-01 1.98820161e-02 2.22231799e-03 2.57056816e-01\n",
            "  5.83193036e-01]\n",
            " [4.98861994e-01 3.31025941e-01 8.88444465e-01 1.01703128e-01\n",
            "  4.83651441e-01]\n",
            " [1.75582261e-01 3.92596734e-01 3.49658228e-01 1.90588357e-01\n",
            "  3.25284517e-01]\n",
            " [2.25854219e-01 1.23228721e-04 2.83544402e-01 8.98241604e-03\n",
            "  6.02761915e-05]]\n"
          ],
          "name": "stdout"
        }
      ]
    },
    {
      "cell_type": "code",
      "metadata": {
        "colab": {
          "base_uri": "https://localhost:8080/"
        },
        "id": "wuWHOeg6IDpn",
        "outputId": "5415a978-edfd-4b0a-dfa6-72aaab72a3c4"
      },
      "source": [
        "print(np.add(temp_array,temp_array))"
      ],
      "execution_count": null,
      "outputs": [
        {
          "output_type": "stream",
          "text": [
            "[[0.32143633 0.49573518 0.57449228 1.15502553 1.81887258]\n",
            " [0.98394601 0.28200721 0.09428294 1.01401542 1.52734153]\n",
            " [1.41260326 1.15069708 1.88514664 0.63781856 1.39090106]\n",
            " [0.83805074 1.2531508  1.18263812 0.87312853 1.14067439]\n",
            " [0.95048244 0.02220169 1.06497775 0.18955122 0.01552755]]\n"
          ],
          "name": "stdout"
        }
      ]
    },
    {
      "cell_type": "code",
      "metadata": {
        "id": "ITrSa2iKIR_Q"
      },
      "source": [
        "# --------------------------------- INDEXING AND SLICING ---------------------------------"
      ],
      "execution_count": null,
      "outputs": []
    },
    {
      "cell_type": "code",
      "metadata": {
        "colab": {
          "base_uri": "https://localhost:8080/"
        },
        "id": "HfzvQH936JND",
        "outputId": "3f727d3b-dd1b-4f98-eb07-ece468145278"
      },
      "source": [
        "import numpy as np\n",
        "temp_array=np.array([1,2,3,4,5,6,7])\n",
        "print(temp_array[0:4]) # 0'dan 4'e kadar 4 dahil değil"
      ],
      "execution_count": null,
      "outputs": [
        {
          "output_type": "stream",
          "text": [
            "[1 2 3 4]\n"
          ],
          "name": "stdout"
        }
      ]
    },
    {
      "cell_type": "code",
      "metadata": {
        "colab": {
          "base_uri": "https://localhost:8080/"
        },
        "id": "v2QIywWd6Z45",
        "outputId": "8f6a6947-febe-4554-d187-3104d2eb4e1d"
      },
      "source": [
        "reverse_array=temp_array[::-1] #Ters çevirdik\n",
        "reverse_array"
      ],
      "execution_count": null,
      "outputs": [
        {
          "output_type": "execute_result",
          "data": {
            "text/plain": [
              "array([7, 6, 5, 4, 3, 2, 1])"
            ]
          },
          "metadata": {
            "tags": []
          },
          "execution_count": 8
        }
      ]
    },
    {
      "cell_type": "code",
      "metadata": {
        "colab": {
          "base_uri": "https://localhost:8080/"
        },
        "id": "ZyFilRFR6zZo",
        "outputId": "76f476e9-1854-452c-8807-147f4dfde7a2"
      },
      "source": [
        "temp_array2=np.array([[1,2,3,4,5],[6,7,8,9,10]])\n",
        "temp_array2"
      ],
      "execution_count": null,
      "outputs": [
        {
          "output_type": "execute_result",
          "data": {
            "text/plain": [
              "array([[ 1,  2,  3,  4,  5],\n",
              "       [ 6,  7,  8,  9, 10]])"
            ]
          },
          "metadata": {
            "tags": []
          },
          "execution_count": 9
        }
      ]
    },
    {
      "cell_type": "code",
      "metadata": {
        "colab": {
          "base_uri": "https://localhost:8080/"
        },
        "id": "X6Lzy3Cf7AOC",
        "outputId": "19e81443-387a-4d4b-9c0a-831ee68208d5"
      },
      "source": [
        "print(temp_array2[0,0])\n",
        "print(temp_array2[0,1])\n",
        "print(temp_array2[1,0])\n",
        "print(temp_array2[1,1])"
      ],
      "execution_count": null,
      "outputs": [
        {
          "output_type": "stream",
          "text": [
            "1\n",
            "2\n",
            "6\n",
            "7\n"
          ],
          "name": "stdout"
        }
      ]
    },
    {
      "cell_type": "code",
      "metadata": {
        "colab": {
          "base_uri": "https://localhost:8080/"
        },
        "id": "HIxEbwAh7D8n",
        "outputId": "2dd1d557-db1b-45e5-b3f1-e5fc09a4a8c4"
      },
      "source": [
        "print(temp_array2[:,1])\n",
        "print(temp_array2[:,0])\n",
        "print(temp_array2[0,:])\n",
        "print(temp_array2[1,:])"
      ],
      "execution_count": null,
      "outputs": [
        {
          "output_type": "stream",
          "text": [
            "[2 7]\n",
            "[1 6]\n",
            "[1 2 3 4 5]\n",
            "[ 6  7  8  9 10]\n"
          ],
          "name": "stdout"
        }
      ]
    },
    {
      "cell_type": "code",
      "metadata": {
        "colab": {
          "base_uri": "https://localhost:8080/"
        },
        "id": "sSpIKTtY7fNE",
        "outputId": "cdf7f04f-f113-4e92-9101-c65d981dd0b7"
      },
      "source": [
        "print(temp_array2[-1,:])  # Son satır\n",
        "print(temp_array2[:,-1])  # Son sütün"
      ],
      "execution_count": null,
      "outputs": [
        {
          "output_type": "stream",
          "text": [
            "[ 6  7  8  9 10]\n",
            "[ 5 10]\n"
          ],
          "name": "stdout"
        }
      ]
    },
    {
      "cell_type": "code",
      "metadata": {
        "id": "aT9iqE-E70K1"
      },
      "source": [
        "# --------------------------------- SHAPE MANIPULATION ---------------------------------"
      ],
      "execution_count": null,
      "outputs": []
    },
    {
      "cell_type": "code",
      "metadata": {
        "colab": {
          "base_uri": "https://localhost:8080/"
        },
        "id": "ED0zjPYJ8LOh",
        "outputId": "4a42d45a-452a-4219-83c1-d3007e647f15"
      },
      "source": [
        "temp_array=np.array([[1,2,3],[4,5,6],[7,8,9]])\n",
        "temp_array"
      ],
      "execution_count": null,
      "outputs": [
        {
          "output_type": "execute_result",
          "data": {
            "text/plain": [
              "array([[1, 2, 3],\n",
              "       [4, 5, 6],\n",
              "       [7, 8, 9]])"
            ]
          },
          "metadata": {
            "tags": []
          },
          "execution_count": 27
        }
      ]
    },
    {
      "cell_type": "code",
      "metadata": {
        "colab": {
          "base_uri": "https://localhost:8080/"
        },
        "id": "BcV5zl4a8RxF",
        "outputId": "33201930-0a1c-4a2a-8c76-a74f764640b0"
      },
      "source": [
        "# \"temp_array\"i TEK SATIR HALİNDE YANİ VEKTÖR HALDE YAZACAĞIZ\n",
        "temp_vector=temp_array.ravel()\n",
        "temp_vector"
      ],
      "execution_count": null,
      "outputs": [
        {
          "output_type": "execute_result",
          "data": {
            "text/plain": [
              "array([1, 2, 3, 4, 5, 6, 7, 8, 9])"
            ]
          },
          "metadata": {
            "tags": []
          },
          "execution_count": 28
        }
      ]
    },
    {
      "cell_type": "code",
      "metadata": {
        "colab": {
          "base_uri": "https://localhost:8080/"
        },
        "id": "jP0hM0lJ8lz2",
        "outputId": "29642248-7ead-4309-82d2-7799095ba26d"
      },
      "source": [
        "# \"temp_vector\" VEKTÖRÜNÜ ESKİ HALİNE YANİ MATRİS HALİNE GETİRECEĞİZ\n",
        "temp_array2=temp_vector.reshape(3,3)\n",
        "temp_array2"
      ],
      "execution_count": null,
      "outputs": [
        {
          "output_type": "execute_result",
          "data": {
            "text/plain": [
              "array([[1, 2, 3],\n",
              "       [4, 5, 6],\n",
              "       [7, 8, 9]])"
            ]
          },
          "metadata": {
            "tags": []
          },
          "execution_count": 30
        }
      ]
    },
    {
      "cell_type": "code",
      "metadata": {
        "colab": {
          "base_uri": "https://localhost:8080/"
        },
        "id": "pqeCuwbu8yDJ",
        "outputId": "035282dd-90c3-4ccf-ec01-c83b64025cee"
      },
      "source": [
        "# ŞİMDİ TRANSPOZUNU ALACAĞIZ\n",
        "temp_transpose=temp_array.T\n",
        "temp_transpose"
      ],
      "execution_count": null,
      "outputs": [
        {
          "output_type": "execute_result",
          "data": {
            "text/plain": [
              "array([[1, 4, 7],\n",
              "       [2, 5, 8],\n",
              "       [3, 6, 9]])"
            ]
          },
          "metadata": {
            "tags": []
          },
          "execution_count": 34
        }
      ]
    },
    {
      "cell_type": "code",
      "metadata": {
        "colab": {
          "base_uri": "https://localhost:8080/"
        },
        "id": "G5qBX9gO88-m",
        "outputId": "a366ecb8-2a0f-490d-a9cb-478896cb69fd"
      },
      "source": [
        "print(temp_transpose.shape)"
      ],
      "execution_count": null,
      "outputs": [
        {
          "output_type": "stream",
          "text": [
            "(3, 3)\n"
          ],
          "name": "stdout"
        }
      ]
    },
    {
      "cell_type": "code",
      "metadata": {
        "id": "er7la9x_9DYr"
      },
      "source": [
        "#resize ın reshape'den farkı"
      ],
      "execution_count": null,
      "outputs": []
    },
    {
      "cell_type": "code",
      "metadata": {
        "colab": {
          "base_uri": "https://localhost:8080/"
        },
        "id": "pvV_fj9S9bcS",
        "outputId": "1a27c4f1-34d7-4f69-c2a7-1a9963bc37ac"
      },
      "source": [
        "temp_array=np.array([[1,2],[3,4],[4,6]])\n",
        "temp_array"
      ],
      "execution_count": null,
      "outputs": [
        {
          "output_type": "execute_result",
          "data": {
            "text/plain": [
              "array([[1, 2],\n",
              "       [3, 4],\n",
              "       [4, 6]])"
            ]
          },
          "metadata": {
            "tags": []
          },
          "execution_count": 44
        }
      ]
    },
    {
      "cell_type": "code",
      "metadata": {
        "colab": {
          "base_uri": "https://localhost:8080/"
        },
        "id": "dNsBXl629jmH",
        "outputId": "af23a41b-2647-438d-c8be-7d7f598266a3"
      },
      "source": [
        "print(\"Reshape\\n\",temp_array.reshape(2,3))\n",
        "print(\"----------------------------------\")\n",
        "print(\"Reshape Sonrası Orjinal Matris\\n\",temp_array)\n",
        "print(\"----------------------------------\")\n",
        "print(\"Resize\\n\",temp_array.resize((2,3))) # Bir sonuç vermez çünkü direkt \"temp_array\"in içine yazıyor\n",
        "print(\"----------------------------------\")\n",
        "print(\"Resize Sonrası Orjinal Matris\\n\",temp_array)"
      ],
      "execution_count": null,
      "outputs": [
        {
          "output_type": "stream",
          "text": [
            "Reshape\n",
            " [[1 2 3]\n",
            " [4 4 6]]\n",
            "----------------------------------\n",
            "Reshape Sonrası Orjinal Matris\n",
            " [[1 2]\n",
            " [3 4]\n",
            " [4 6]]\n",
            "----------------------------------\n",
            "Resize\n",
            " None\n",
            "----------------------------------\n",
            "Resize Sonrası Orjinal Matris\n",
            " [[1 2 3]\n",
            " [4 4 6]]\n"
          ],
          "name": "stdout"
        }
      ]
    },
    {
      "cell_type": "code",
      "metadata": {
        "id": "HeQ85i7q9o3B"
      },
      "source": [
        "# --------------------------------- STACKING ARRAYS ---------------------------------"
      ],
      "execution_count": null,
      "outputs": []
    },
    {
      "cell_type": "code",
      "metadata": {
        "colab": {
          "base_uri": "https://localhost:8080/"
        },
        "id": "cGZ2ygfq92F_",
        "outputId": "d5cb9df5-d3db-4edf-d582-0d008a92ddc1"
      },
      "source": [
        "temp_array=np.array([[1,2],[3,4]])\n",
        "temp_array2=np.array([[-1,-2],[-3,-4]])\n",
        "print(\"Temp Array\\n\",temp_array)\n",
        "print(\"----------------------------------\")\n",
        "print(\"Temp Array 2\\n\",temp_array2)\n",
        "print(\"----------------------------------\")"
      ],
      "execution_count": null,
      "outputs": [
        {
          "output_type": "stream",
          "text": [
            "Temp Array\n",
            " [[1 2]\n",
            " [3 4]]\n",
            "----------------------------------\n",
            "Temp Array 2\n",
            " [[-1 -2]\n",
            " [-3 -4]]\n",
            "----------------------------------\n"
          ],
          "name": "stdout"
        }
      ]
    },
    {
      "cell_type": "code",
      "metadata": {
        "colab": {
          "base_uri": "https://localhost:8080/"
        },
        "id": "ezgTlGKm_D3G",
        "outputId": "4c6992aa-2886-4ff8-cf58-b2e3f7e4b98c"
      },
      "source": [
        "# DİKEY BİRLEŞTİRME\n",
        "temp_vStack=np.vstack((temp_array,temp_array2))\n",
        "print(\"Dikey Birleştirme Sonucu\\n\",temp_vStack)"
      ],
      "execution_count": null,
      "outputs": [
        {
          "output_type": "stream",
          "text": [
            "Dikey Birleştirme Sonucu\n",
            " [[ 1  2]\n",
            " [ 3  4]\n",
            " [-1 -2]\n",
            " [-3 -4]]\n"
          ],
          "name": "stdout"
        }
      ]
    },
    {
      "cell_type": "code",
      "metadata": {
        "colab": {
          "base_uri": "https://localhost:8080/"
        },
        "id": "GL2v6UoE_phX",
        "outputId": "6454720d-5010-4952-cbed-500b891825ae"
      },
      "source": [
        "# YATAY BİRLEŞTİRME\n",
        "temp_hStack=np.hstack((temp_array,temp_array2))\n",
        "print(\"Yatay Birleştirme Sonucu\\n\",temp_hStack)"
      ],
      "execution_count": null,
      "outputs": [
        {
          "output_type": "stream",
          "text": [
            "Yatay Birleştirme Sonucu\n",
            " [[ 1  2 -1 -2]\n",
            " [ 3  4 -3 -4]]\n"
          ],
          "name": "stdout"
        }
      ]
    },
    {
      "cell_type": "code",
      "metadata": {
        "id": "Naq2TdAy_0el"
      },
      "source": [
        "# --------------------------------- CONVERTING AND COPY ARRAY ---------------------------------"
      ],
      "execution_count": null,
      "outputs": []
    },
    {
      "cell_type": "code",
      "metadata": {
        "colab": {
          "base_uri": "https://localhost:8080/"
        },
        "id": "3kgLpOdnAN7Z",
        "outputId": "2b80420f-7f57-4d35-e1fe-09e874189655"
      },
      "source": [
        "temp_list=[1,2,3,4]\n",
        "temp_array=np.array(temp_list)\n",
        "temp_array"
      ],
      "execution_count": null,
      "outputs": [
        {
          "output_type": "execute_result",
          "data": {
            "text/plain": [
              "array([1, 2, 3, 4])"
            ]
          },
          "metadata": {
            "tags": []
          },
          "execution_count": 53
        }
      ]
    },
    {
      "cell_type": "code",
      "metadata": {
        "colab": {
          "base_uri": "https://localhost:8080/"
        },
        "id": "qcMMK_q_AZEx",
        "outputId": "4981e4ca-2c6a-487d-f1e5-caaebf0adec5"
      },
      "source": [
        "temp_list2=list(temp_array)\n",
        "temp_list2"
      ],
      "execution_count": null,
      "outputs": [
        {
          "output_type": "execute_result",
          "data": {
            "text/plain": [
              "[1, 2, 3, 4]"
            ]
          },
          "metadata": {
            "tags": []
          },
          "execution_count": 55
        }
      ]
    },
    {
      "cell_type": "code",
      "metadata": {
        "id": "U1X8ohwOAef4"
      },
      "source": [
        "temp_array2=np.array([1,2,3])\n",
        "temp_array3=temp_array2\n",
        "temp_array4=temp_array2"
      ],
      "execution_count": null,
      "outputs": []
    },
    {
      "cell_type": "code",
      "metadata": {
        "colab": {
          "base_uri": "https://localhost:8080/"
        },
        "id": "hDQYAsWtEOyC",
        "outputId": "a05406be-d18d-4636-ab53-e5b88c19b76d"
      },
      "source": [
        "# Yukarıda yaptığımız işlem ile hafızada(memoryde) aynı alanı ayırdığımız için aşağıdaki sonuçlara erişiyoruz\n",
        "temp_array3[0]=5\n",
        "print(\"Temp Array2\\n\",temp_array2)\n",
        "print(\"----------------------------------\")\n",
        "print(\"Temp Array3\\n\",temp_array3)\n",
        "print(\"----------------------------------\")\n",
        "print(\"Temp Array4\\n\",temp_array4)\n",
        "print(\"----------------------------------\")"
      ],
      "execution_count": null,
      "outputs": [
        {
          "output_type": "stream",
          "text": [
            "Temp Array2\n",
            " [5 2 3]\n",
            "----------------------------------\n",
            "Temp Array3\n",
            " [5 2 3]\n",
            "----------------------------------\n",
            "Temp Array4\n",
            " [5 2 3]\n",
            "----------------------------------\n"
          ],
          "name": "stdout"
        }
      ]
    },
    {
      "cell_type": "code",
      "metadata": {
        "colab": {
          "base_uri": "https://localhost:8080/"
        },
        "id": "KQAFUJQGErC7",
        "outputId": "87bf4d18-6881-4ebc-f7c3-063f4b792001"
      },
      "source": [
        "# Yukarıdaki olayların olmasını istemiyorsak\n",
        "temp_array5=np.array([1,2,3])\n",
        "temp_array6=temp_array5.copy()\n",
        "temp_array7=temp_array5.copy()\n",
        "temp_array6[0]=5\n",
        "print(\"Temp Array5\\n\",temp_array5)\n",
        "print(\"----------------------------------\")\n",
        "print(\"Temp Array6\\n\",temp_array6)\n",
        "print(\"----------------------------------\")\n",
        "print(\"Temp Array7\\n\",temp_array7)\n",
        "print(\"----------------------------------\")"
      ],
      "execution_count": null,
      "outputs": [
        {
          "output_type": "stream",
          "text": [
            "Temp Array5\n",
            " [1 2 3]\n",
            "----------------------------------\n",
            "Temp Array6\n",
            " [5 2 3]\n",
            "----------------------------------\n",
            "Temp Array7\n",
            " [1 2 3]\n",
            "----------------------------------\n"
          ],
          "name": "stdout"
        }
      ]
    },
    {
      "cell_type": "code",
      "metadata": {
        "id": "CSAFQ7v_GFgh",
        "colab": {
          "base_uri": "https://localhost:8080/",
          "height": 163
        },
        "outputId": "a01650d9-dfde-44aa-eaed-05ee9afca433"
      },
      "source": [
        ""
      ],
      "execution_count": null,
      "outputs": [
        {
          "output_type": "error",
          "ename": "NameError",
          "evalue": "ignored",
          "traceback": [
            "\u001b[0;31m---------------------------------------------------------------------------\u001b[0m",
            "\u001b[0;31mNameError\u001b[0m                                 Traceback (most recent call last)",
            "\u001b[0;32m<ipython-input-4-d029b1b2057e>\u001b[0m in \u001b[0;36m<module>\u001b[0;34m()\u001b[0m\n\u001b[0;32m----> 1\u001b[0;31m \u001b[0mtempX\u001b[0m\u001b[0;34m.\u001b[0m\u001b[0mshape\u001b[0m\u001b[0;34m\u001b[0m\u001b[0;34m\u001b[0m\u001b[0m\n\u001b[0m",
            "\u001b[0;31mNameError\u001b[0m: name 'tempX' is not defined"
          ]
        }
      ]
    },
    {
      "cell_type": "code",
      "metadata": {
        "id": "ymNFZyqIKGrv"
      },
      "source": [
        ""
      ],
      "execution_count": null,
      "outputs": []
    }
  ]
}