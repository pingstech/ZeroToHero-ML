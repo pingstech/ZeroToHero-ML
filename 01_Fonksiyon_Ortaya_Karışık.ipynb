{
  "nbformat": 4,
  "nbformat_minor": 0,
  "metadata": {
    "colab": {
      "name": "01-Fonksiyon Ortaya Karışık.ipynb",
      "provenance": [],
      "collapsed_sections": [],
      "authorship_tag": "ABX9TyNBYyYVjCZFfrtgbRQ8sbGW",
      "include_colab_link": true
    },
    "kernelspec": {
      "name": "python3",
      "display_name": "Python 3"
    },
    "language_info": {
      "name": "python"
    }
  },
  "cells": [
    {
      "cell_type": "markdown",
      "metadata": {
        "id": "view-in-github",
        "colab_type": "text"
      },
      "source": [
        "<a href=\"https://colab.research.google.com/github/pingstech/ZeroToHero-ML/blob/main/01_Fonksiyon_Ortaya_Kar%C4%B1%C5%9F%C4%B1k.ipynb\" target=\"_parent\"><img src=\"https://colab.research.google.com/assets/colab-badge.svg\" alt=\"Open In Colab\"/></a>"
      ]
    },
    {
      "cell_type": "code",
      "metadata": {
        "id": "53pr2wnx0eYy"
      },
      "source": [
        "var1=30\n",
        "var2=40\n",
        "output=(((var1+var2)*50)/100.0)*var1/var2"
      ],
      "execution_count": null,
      "outputs": []
    },
    {
      "cell_type": "code",
      "metadata": {
        "colab": {
          "base_uri": "https://localhost:8080/"
        },
        "id": "3iqq4iO_0q0G",
        "outputId": "21ccc961-8a7e-4b23-9f72-070ab99355e5"
      },
      "source": [
        "print(\"Result: \",output)"
      ],
      "execution_count": null,
      "outputs": [
        {
          "output_type": "stream",
          "text": [
            "Result:  26.25\n"
          ],
          "name": "stdout"
        }
      ]
    },
    {
      "cell_type": "code",
      "metadata": {
        "id": "dCuU2ygs0zA3"
      },
      "source": [
        "def pross(temp1,temp2):\n",
        "  temp_Output=(((temp1+temp2)*50)/100.0)*temp1/temp2\n",
        "  print(\"Result: \",temp_Output)"
      ],
      "execution_count": null,
      "outputs": []
    },
    {
      "cell_type": "code",
      "metadata": {
        "colab": {
          "base_uri": "https://localhost:8080/"
        },
        "id": "sMpP4xPz1Qp8",
        "outputId": "28857647-1322-433f-94bc-dab86d3bc0d7"
      },
      "source": [
        "pross(30,40)"
      ],
      "execution_count": null,
      "outputs": [
        {
          "output_type": "stream",
          "text": [
            "Result:  26.25\n"
          ],
          "name": "stdout"
        }
      ]
    },
    {
      "cell_type": "code",
      "metadata": {
        "id": "WIERSfhA1goF"
      },
      "source": [
        "#Default And Flexible Function"
      ],
      "execution_count": null,
      "outputs": []
    },
    {
      "cell_type": "code",
      "metadata": {
        "id": "AqC2fRPQ1u2n"
      },
      "source": [
        "def circlePer(r_temp,pi=3.14):\n",
        "    temp_output=2*pi*r_temp\n",
        "    return output"
      ],
      "execution_count": null,
      "outputs": []
    },
    {
      "cell_type": "code",
      "metadata": {
        "colab": {
          "base_uri": "https://localhost:8080/"
        },
        "id": "us_5uhc52H1d",
        "outputId": "43b5062f-66a7-4159-e0d6-6dc0d4c3ae98"
      },
      "source": [
        "circle_r=circlePer(20)\n",
        "print(\"Perimeter of Circle: \",circle_r)"
      ],
      "execution_count": null,
      "outputs": [
        {
          "output_type": "stream",
          "text": [
            "Perimeter of Circle:  26.25\n"
          ],
          "name": "stdout"
        }
      ]
    },
    {
      "cell_type": "code",
      "metadata": {
        "id": "55iIqDeI2SiA"
      },
      "source": [
        "def calc(temp_height,temp_weight,temp_age):\n",
        "  temp_Output=(temp_height*temp_weight)*temp_age\n",
        "  return temp_Output"
      ],
      "execution_count": null,
      "outputs": []
    },
    {
      "cell_type": "code",
      "metadata": {
        "colab": {
          "base_uri": "https://localhost:8080/"
        },
        "id": "q3AsDJVd3NeN",
        "outputId": "2ab7ce5c-fbd7-45ed-ac04-345ab569dc5f"
      },
      "source": [
        "calc(1,2,5)"
      ],
      "execution_count": null,
      "outputs": [
        {
          "output_type": "execute_result",
          "data": {
            "text/plain": [
              "10"
            ]
          },
          "metadata": {
            "tags": []
          },
          "execution_count": 29
        }
      ]
    },
    {
      "cell_type": "code",
      "metadata": {
        "colab": {
          "base_uri": "https://localhost:8080/"
        },
        "id": "95xoedf-3gkq",
        "outputId": "cc580dcf-0be5-44e3-e7d2-116f06778450"
      },
      "source": [
        "round(3.76)"
      ],
      "execution_count": null,
      "outputs": [
        {
          "output_type": "execute_result",
          "data": {
            "text/plain": [
              "4"
            ]
          },
          "metadata": {
            "tags": []
          },
          "execution_count": 31
        }
      ]
    },
    {
      "cell_type": "code",
      "metadata": {
        "id": "LOxJYeou37C3"
      },
      "source": [
        "def s(x, y = 2):\n",
        "\n",
        "    c = 2\n",
        "\n",
        "    for i in range(y):\n",
        "        print(\"i:\",i)\n",
        "        c = c + x\n",
        "\n",
        "    return c"
      ],
      "execution_count": null,
      "outputs": []
    },
    {
      "cell_type": "code",
      "metadata": {
        "colab": {
          "base_uri": "https://localhost:8080/"
        },
        "id": "9-fUKZbh4KPl",
        "outputId": "53a98d33-d95a-4e50-e2bc-d6f53beb2cf8"
      },
      "source": [
        "s(2)\n"
      ],
      "execution_count": null,
      "outputs": [
        {
          "output_type": "stream",
          "text": [
            "i: 0\n",
            "i: 1\n"
          ],
          "name": "stdout"
        },
        {
          "output_type": "execute_result",
          "data": {
            "text/plain": [
              "6"
            ]
          },
          "metadata": {
            "tags": []
          },
          "execution_count": 39
        }
      ]
    },
    {
      "cell_type": "code",
      "metadata": {
        "colab": {
          "base_uri": "https://localhost:8080/"
        },
        "id": "eaElCRzt4LAi",
        "outputId": "b02bfcdb-97d4-44f8-8db7-5a435edee154"
      },
      "source": [
        "s(2,3)"
      ],
      "execution_count": null,
      "outputs": [
        {
          "output_type": "stream",
          "text": [
            "i: 0\n",
            "i: 1\n",
            "i: 2\n"
          ],
          "name": "stdout"
        },
        {
          "output_type": "execute_result",
          "data": {
            "text/plain": [
              "8"
            ]
          },
          "metadata": {
            "tags": []
          },
          "execution_count": 40
        }
      ]
    },
    {
      "cell_type": "code",
      "metadata": {
        "id": "C8stGUFa4hqI",
        "colab": {
          "base_uri": "https://localhost:8080/"
        },
        "outputId": "c42203ed-889a-41f5-d2e1-e18d829b6211"
      },
      "source": [
        "print(\"{} | {} | {} | {} | \".format(1,2,3,4))"
      ],
      "execution_count": null,
      "outputs": [
        {
          "output_type": "stream",
          "text": [
            "1 | 2 | 3 | 4 | \n"
          ],
          "name": "stdout"
        }
      ]
    },
    {
      "cell_type": "code",
      "metadata": {
        "id": "OiMjrLZEPVq7"
      },
      "source": [
        "def findSpec(temp_age,temp_name,temp_surname,*args,temp_foot=46):\n",
        "  print(\"Dongu Icınde\")\n",
        "  print(\"\"\"\"\n",
        "   Cocugun Ismi:   {} \n",
        "   Cocugun Soyadı: {}\n",
        "   Cocugun Yasi:   {}\n",
        "   Ayak Numarasi:  {} \"\"\".format(temp_name,temp_surname,temp_age,temp_foot))\n",
        "  print(\"Yaşın Tipi: \",type(temp_age))\n",
        "  print(\"İsmin Tipi: \",type(temp_name))\n",
        "  temp_Output= args[0]*temp_age\n",
        "  print(\"args[0]'ın değeri:\",args[0])\n",
        "  return temp_Output"
      ],
      "execution_count": null,
      "outputs": []
    },
    {
      "cell_type": "code",
      "metadata": {
        "colab": {
          "base_uri": "https://localhost:8080/"
        },
        "id": "FoKNs6g4QqhR",
        "outputId": "d9d6ae0e-f306-486c-9631-8b1061089b79"
      },
      "source": [
        "age=24\n",
        "name='Furkan'\n",
        "surname='Yayla'\n",
        "footSize=45.5\n",
        "result=findSpec(age,name,surname,footSize)\n",
        "print(\"args[0]*yas:\",result)"
      ],
      "execution_count": null,
      "outputs": [
        {
          "output_type": "stream",
          "text": [
            "Dongu Icınde\n",
            "\"\n",
            "   Cocugun Ismi:   Furkan \n",
            "   Cocugun Soyadı: Yayla\n",
            "   Cocugun Yasi:   24\n",
            "   Ayak Numarasi:  46 \n",
            "Yaşın Tipi:  <class 'int'>\n",
            "İsmin Tipi:  <class 'str'>\n",
            "args[0]'ın değeri: 45.5\n",
            "args[0]*yas: 1092.0\n"
          ],
          "name": "stdout"
        }
      ]
    },
    {
      "cell_type": "code",
      "metadata": {
        "id": "v3SQK50aQ57Q"
      },
      "source": [
        "#--------- LAMBDA FUNCTION ------------"
      ],
      "execution_count": null,
      "outputs": []
    },
    {
      "cell_type": "code",
      "metadata": {
        "colab": {
          "base_uri": "https://localhost:8080/"
        },
        "id": "nDxkt2nGUaSl",
        "outputId": "49950311-203c-4cb2-c8f7-0f8c93b30dd5"
      },
      "source": [
        "def calc(x):\n",
        "  output=x*x\n",
        "  return output\n",
        "\n",
        "result=calc(4)\n",
        "result"
      ],
      "execution_count": null,
      "outputs": [
        {
          "output_type": "execute_result",
          "data": {
            "text/plain": [
              "16"
            ]
          },
          "metadata": {
            "tags": []
          },
          "execution_count": 42
        }
      ]
    },
    {
      "cell_type": "code",
      "metadata": {
        "colab": {
          "base_uri": "https://localhost:8080/"
        },
        "id": "Vq_H3POCUbor",
        "outputId": "c277d343-cbdf-4c26-ade8-c2df57d41fea"
      },
      "source": [
        "result2=lambda x:x*x\n",
        "print(\"Lambda fonksiyonu ile islem:\",result2(4))"
      ],
      "execution_count": null,
      "outputs": [
        {
          "output_type": "stream",
          "text": [
            "Lambda fonksiyonu ile islem: 16\n"
          ],
          "name": "stdout"
        }
      ]
    },
    {
      "cell_type": "code",
      "metadata": {
        "id": "uPIXTI1yUuAf"
      },
      "source": [
        "#----------- List ------------------"
      ],
      "execution_count": null,
      "outputs": []
    },
    {
      "cell_type": "code",
      "metadata": {
        "colab": {
          "base_uri": "https://localhost:8080/"
        },
        "id": "4i9hgcljb7aJ",
        "outputId": "8f724f39-9a84-460a-f535-86af45a0ec46"
      },
      "source": [
        "int_list=[1,2,3,4,5,6]\n",
        "int_list"
      ],
      "execution_count": null,
      "outputs": [
        {
          "output_type": "execute_result",
          "data": {
            "text/plain": [
              "[1, 2, 3, 4, 5, 6]"
            ]
          },
          "metadata": {
            "tags": []
          },
          "execution_count": 5
        }
      ]
    },
    {
      "cell_type": "code",
      "metadata": {
        "colab": {
          "base_uri": "https://localhost:8080/"
        },
        "id": "zn43WZMLcBkw",
        "outputId": "8a411161-4f85-4595-cfff-58015398a860"
      },
      "source": [
        "str_list=[\"monday\",\"tuesday\",\"wednesday\"]\n",
        "str_list"
      ],
      "execution_count": null,
      "outputs": [
        {
          "output_type": "execute_result",
          "data": {
            "text/plain": [
              "['monday', 'tuesday', 'wednesday']"
            ]
          },
          "metadata": {
            "tags": []
          },
          "execution_count": 6
        }
      ]
    },
    {
      "cell_type": "code",
      "metadata": {
        "colab": {
          "base_uri": "https://localhost:8080/"
        },
        "id": "SEjJ6I4rcEBx",
        "outputId": "8150dcad-4012-44d7-cfd5-8a86b76d7275"
      },
      "source": [
        "indexValue=int_list[2]\n",
        "indexValue"
      ],
      "execution_count": null,
      "outputs": [
        {
          "output_type": "execute_result",
          "data": {
            "text/plain": [
              "3"
            ]
          },
          "metadata": {
            "tags": []
          },
          "execution_count": 8
        }
      ]
    },
    {
      "cell_type": "code",
      "metadata": {
        "colab": {
          "base_uri": "https://localhost:8080/",
          "height": 35
        },
        "id": "V91qP1WpcgLM",
        "outputId": "a890070e-59f1-454e-9f70-01709b4971d8"
      },
      "source": [
        "indexValue=str_list[1]\n",
        "indexValue"
      ],
      "execution_count": null,
      "outputs": [
        {
          "output_type": "execute_result",
          "data": {
            "application/vnd.google.colaboratory.intrinsic+json": {
              "type": "string"
            },
            "text/plain": [
              "'tuesday'"
            ]
          },
          "metadata": {
            "tags": []
          },
          "execution_count": 9
        }
      ]
    },
    {
      "cell_type": "code",
      "metadata": {
        "colab": {
          "base_uri": "https://localhost:8080/"
        },
        "id": "ijlkc59lcoNh",
        "outputId": "63c90011-8a1c-4556-c0ee-062d288be70f"
      },
      "source": [
        "multipleChoice=int_list[0:3]\n",
        "multipleChoice"
      ],
      "execution_count": null,
      "outputs": [
        {
          "output_type": "execute_result",
          "data": {
            "text/plain": [
              "[1, 2, 3]"
            ]
          },
          "metadata": {
            "tags": []
          },
          "execution_count": 10
        }
      ]
    },
    {
      "cell_type": "code",
      "metadata": {
        "colab": {
          "base_uri": "https://localhost:8080/"
        },
        "id": "9vHse27Pc2lk",
        "outputId": "e2283970-f16e-40a8-fa04-d20ca25cc3c3"
      },
      "source": [
        "multipleChoice=int_list[0:7:2]\n",
        "multipleChoice"
      ],
      "execution_count": null,
      "outputs": [
        {
          "output_type": "execute_result",
          "data": {
            "text/plain": [
              "[1, 3, 5]"
            ]
          },
          "metadata": {
            "tags": []
          },
          "execution_count": 13
        }
      ]
    },
    {
      "cell_type": "code",
      "metadata": {
        "colab": {
          "base_uri": "https://localhost:8080/"
        },
        "id": "bwXbywmGc7Rm",
        "outputId": "b2b240c1-91bc-4bd6-9d05-9486a4dec209"
      },
      "source": [
        "multipleChoice=int_list[0:]\n",
        "multipleChoice"
      ],
      "execution_count": null,
      "outputs": [
        {
          "output_type": "execute_result",
          "data": {
            "text/plain": [
              "[1, 2, 3, 4, 5, 6]"
            ]
          },
          "metadata": {
            "tags": []
          },
          "execution_count": 16
        }
      ]
    },
    {
      "cell_type": "code",
      "metadata": {
        "colab": {
          "base_uri": "https://localhost:8080/"
        },
        "id": "wTHczFUZdHyE",
        "outputId": "8d493de2-3bf0-4028-f58a-e2f7116afbea"
      },
      "source": [
        "multipleChoice=int_list[:]\n",
        "multipleChoice"
      ],
      "execution_count": null,
      "outputs": [
        {
          "output_type": "execute_result",
          "data": {
            "text/plain": [
              "[1, 2, 3, 4, 5, 6]"
            ]
          },
          "metadata": {
            "tags": []
          },
          "execution_count": 15
        }
      ]
    },
    {
      "cell_type": "code",
      "metadata": {
        "colab": {
          "base_uri": "https://localhost:8080/"
        },
        "id": "FHsbxCSSdKGZ",
        "outputId": "b3de2f13-3b3f-451c-e651-a961b11007f8"
      },
      "source": [
        "multipleChoice=int_list[-1]\n",
        "multipleChoice"
      ],
      "execution_count": null,
      "outputs": [
        {
          "output_type": "execute_result",
          "data": {
            "text/plain": [
              "6"
            ]
          },
          "metadata": {
            "tags": []
          },
          "execution_count": 17
        }
      ]
    },
    {
      "cell_type": "code",
      "metadata": {
        "colab": {
          "base_uri": "https://localhost:8080/"
        },
        "id": "pE0J_LYDdRo4",
        "outputId": "faf2ed44-5134-4904-ef5f-0ad911f15584"
      },
      "source": [
        "int_list.append(7)\n",
        "int_list"
      ],
      "execution_count": null,
      "outputs": [
        {
          "output_type": "execute_result",
          "data": {
            "text/plain": [
              "[1, 2, 3, 4, 5, 6, 7, 7]"
            ]
          },
          "metadata": {
            "tags": []
          },
          "execution_count": 21
        }
      ]
    },
    {
      "cell_type": "code",
      "metadata": {
        "colab": {
          "base_uri": "https://localhost:8080/"
        },
        "id": "iEvTqhvjdW6a",
        "outputId": "1ca434c7-2449-45f3-e74d-e376efae78b8"
      },
      "source": [
        "int_list.remove(7)\n",
        "int_list"
      ],
      "execution_count": null,
      "outputs": [
        {
          "output_type": "execute_result",
          "data": {
            "text/plain": [
              "[1, 2, 3, 4, 5, 6, 7]"
            ]
          },
          "metadata": {
            "tags": []
          },
          "execution_count": 22
        }
      ]
    },
    {
      "cell_type": "code",
      "metadata": {
        "colab": {
          "base_uri": "https://localhost:8080/"
        },
        "id": "qXA18yr_ddcr",
        "outputId": "27d62aae-6ff4-489b-8d24-602ad6e44cf6"
      },
      "source": [
        "int_list.reverse()\n",
        "int_list"
      ],
      "execution_count": null,
      "outputs": [
        {
          "output_type": "execute_result",
          "data": {
            "text/plain": [
              "[7, 6, 5, 4, 3, 2, 1]"
            ]
          },
          "metadata": {
            "tags": []
          },
          "execution_count": 24
        }
      ]
    },
    {
      "cell_type": "code",
      "metadata": {
        "colab": {
          "base_uri": "https://localhost:8080/"
        },
        "id": "S6V_7I3Udqc3",
        "outputId": "fa4cb319-ccd6-41d5-9ddf-2e085162ec14"
      },
      "source": [
        "int_list2=[1,5,4,3,6,7,2]\n",
        "int_list2"
      ],
      "execution_count": null,
      "outputs": [
        {
          "output_type": "execute_result",
          "data": {
            "text/plain": [
              "[1, 5, 4, 3, 6, 7, 2]"
            ]
          },
          "metadata": {
            "tags": []
          },
          "execution_count": 25
        }
      ]
    },
    {
      "cell_type": "code",
      "metadata": {
        "colab": {
          "base_uri": "https://localhost:8080/"
        },
        "id": "v9_zpPRedzs8",
        "outputId": "f79e5dd0-5885-4738-ffab-63ee22cda5f5"
      },
      "source": [
        "int_list2.sort()\n",
        "int_list2"
      ],
      "execution_count": null,
      "outputs": [
        {
          "output_type": "execute_result",
          "data": {
            "text/plain": [
              "[1, 2, 3, 4, 5, 6, 7]"
            ]
          },
          "metadata": {
            "tags": []
          },
          "execution_count": 26
        }
      ]
    },
    {
      "cell_type": "code",
      "metadata": {
        "id": "VnmPr1oFd3G7"
      },
      "source": [
        "#------------------ Tuple --------------------"
      ],
      "execution_count": null,
      "outputs": []
    },
    {
      "cell_type": "code",
      "metadata": {
        "colab": {
          "base_uri": "https://localhost:8080/"
        },
        "id": "rcIExhF4eCph",
        "outputId": "d30250ee-800e-4371-8424-aa3ca7797870"
      },
      "source": [
        "int_tuple= (1,2,3,4,5,6,3,3,2,4)\n",
        "int_tuple"
      ],
      "execution_count": null,
      "outputs": [
        {
          "output_type": "execute_result",
          "data": {
            "text/plain": [
              "(1, 2, 3, 4, 5, 6, 3, 3, 2, 4)"
            ]
          },
          "metadata": {
            "tags": []
          },
          "execution_count": 31
        }
      ]
    },
    {
      "cell_type": "code",
      "metadata": {
        "colab": {
          "base_uri": "https://localhost:8080/"
        },
        "id": "eJmvj0u5eNXk",
        "outputId": "602010d5-0b9a-429f-942a-61589d5d8430"
      },
      "source": [
        "int_tuple.count(3)"
      ],
      "execution_count": null,
      "outputs": [
        {
          "output_type": "execute_result",
          "data": {
            "text/plain": [
              "3"
            ]
          },
          "metadata": {
            "tags": []
          },
          "execution_count": 32
        }
      ]
    },
    {
      "cell_type": "code",
      "metadata": {
        "colab": {
          "base_uri": "https://localhost:8080/"
        },
        "id": "vXgXRgyLeYqQ",
        "outputId": "c0a463c3-9b97-4ec3-8ee3-3d87b586dede"
      },
      "source": [
        "int_tuple.index(4)"
      ],
      "execution_count": null,
      "outputs": [
        {
          "output_type": "execute_result",
          "data": {
            "text/plain": [
              "3"
            ]
          },
          "metadata": {
            "tags": []
          },
          "execution_count": 33
        }
      ]
    },
    {
      "cell_type": "code",
      "metadata": {
        "id": "QJppUH4Uel2k"
      },
      "source": [
        "#--------------- Dictionary ------------------"
      ],
      "execution_count": null,
      "outputs": []
    },
    {
      "cell_type": "code",
      "metadata": {
        "colab": {
          "base_uri": "https://localhost:8080/"
        },
        "id": "XoBNNH6Yeyzg",
        "outputId": "2ccdd15f-78aa-4fb4-dfba-afa5dd9c52fb"
      },
      "source": [
        "dictionary={\"Furkan\":24,\"Funda\":23,\"Güllü\":43}\n",
        "dictionary"
      ],
      "execution_count": null,
      "outputs": [
        {
          "output_type": "execute_result",
          "data": {
            "text/plain": [
              "{'Funda': 23, 'Furkan': 24, 'Güllü': 43}"
            ]
          },
          "metadata": {
            "tags": []
          },
          "execution_count": 36
        }
      ]
    },
    {
      "cell_type": "code",
      "metadata": {
        "colab": {
          "base_uri": "https://localhost:8080/"
        },
        "id": "jLLuT7NUfQ1A",
        "outputId": "98c0512a-aad0-4c0d-d992-e22f9ec48846"
      },
      "source": [
        "dictionary[\"Furkan\"]"
      ],
      "execution_count": null,
      "outputs": [
        {
          "output_type": "execute_result",
          "data": {
            "text/plain": [
              "24"
            ]
          },
          "metadata": {
            "tags": []
          },
          "execution_count": 37
        }
      ]
    },
    {
      "cell_type": "code",
      "metadata": {
        "colab": {
          "base_uri": "https://localhost:8080/"
        },
        "id": "VRTfqtwmfVkI",
        "outputId": "70c31858-c3b9-4605-da0a-b5ab809c779b"
      },
      "source": [
        "type(dictionary[\"Furkan\"])"
      ],
      "execution_count": null,
      "outputs": [
        {
          "output_type": "execute_result",
          "data": {
            "text/plain": [
              "int"
            ]
          },
          "metadata": {
            "tags": []
          },
          "execution_count": 38
        }
      ]
    },
    {
      "cell_type": "code",
      "metadata": {
        "id": "r2TERCktfY3D"
      },
      "source": [
        "def temp():\n",
        "  dictionary={\"Furkan\":24,\"Funda\":23,\"Güllü\":43}\n",
        "  return dictionary  "
      ],
      "execution_count": null,
      "outputs": []
    },
    {
      "cell_type": "code",
      "metadata": {
        "colab": {
          "base_uri": "https://localhost:8080/"
        },
        "id": "rFkDWzikfoK-",
        "outputId": "08292afa-7167-4b59-f267-5ad8b9d1e435"
      },
      "source": [
        "dic=temp()\n",
        "dic"
      ],
      "execution_count": null,
      "outputs": [
        {
          "output_type": "execute_result",
          "data": {
            "text/plain": [
              "{'Funda': 23, 'Furkan': 24, 'Güllü': 43}"
            ]
          },
          "metadata": {
            "tags": []
          },
          "execution_count": 45
        }
      ]
    },
    {
      "cell_type": "code",
      "metadata": {
        "colab": {
          "base_uri": "https://localhost:8080/"
        },
        "id": "11r09kx3fq1R",
        "outputId": "2ecbad92-2644-4619-ec7c-97e48ec799fe"
      },
      "source": [
        "dic['Funda']"
      ],
      "execution_count": null,
      "outputs": [
        {
          "output_type": "execute_result",
          "data": {
            "text/plain": [
              "23"
            ]
          },
          "metadata": {
            "tags": []
          },
          "execution_count": 46
        }
      ]
    },
    {
      "cell_type": "code",
      "metadata": {
        "id": "es_mZ-qLi73F"
      },
      "source": [
        "#-------------------- Deneme -----------------------"
      ],
      "execution_count": null,
      "outputs": []
    },
    {
      "cell_type": "code",
      "metadata": {
        "id": "kkNUm51Hf6fy"
      },
      "source": [
        "def year2century(temp_year):\n",
        "  str_year=str(temp_year)\n",
        "  if len(str_year)<3:\n",
        "    return 1\n",
        "  elif len(str_year)==3:\n",
        "    if(str_year[1:3])==\"00\":\n",
        "      return int(str_year[0])\n",
        "    else:\n",
        "      return (int(str_year[0])+1)\n",
        "  else:\n",
        "    if (str_year[2:4])==\"00\":\n",
        "      return int(str_year[:2])\n",
        "    else:\n",
        "      return (int(str_year[:2])+1)\n"
      ],
      "execution_count": null,
      "outputs": []
    },
    {
      "cell_type": "code",
      "metadata": {
        "colab": {
          "base_uri": "https://localhost:8080/"
        },
        "id": "R1qU4mMcgPj9",
        "outputId": "9a5273e3-9543-47e6-f4f7-a8aa71b452bd"
      },
      "source": [
        "year2century(1997)"
      ],
      "execution_count": null,
      "outputs": [
        {
          "output_type": "execute_result",
          "data": {
            "text/plain": [
              "20"
            ]
          },
          "metadata": {
            "tags": []
          },
          "execution_count": 55
        }
      ]
    },
    {
      "cell_type": "code",
      "metadata": {
        "colab": {
          "base_uri": "https://localhost:8080/"
        },
        "id": "SMwc7VPQixv3",
        "outputId": "5584ab68-3896-4468-9bfc-d3175af2692b"
      },
      "source": [
        "year2century(2000)"
      ],
      "execution_count": null,
      "outputs": [
        {
          "output_type": "execute_result",
          "data": {
            "text/plain": [
              "20"
            ]
          },
          "metadata": {
            "tags": []
          },
          "execution_count": 56
        }
      ]
    },
    {
      "cell_type": "code",
      "metadata": {
        "colab": {
          "base_uri": "https://localhost:8080/"
        },
        "id": "L4Wf1BP9i2l8",
        "outputId": "16ac4317-b86d-47e4-d418-66929f9cf231"
      },
      "source": [
        "year2century(101)"
      ],
      "execution_count": null,
      "outputs": [
        {
          "output_type": "execute_result",
          "data": {
            "text/plain": [
              "2"
            ]
          },
          "metadata": {
            "tags": []
          },
          "execution_count": 57
        }
      ]
    },
    {
      "cell_type": "code",
      "metadata": {
        "id": "HUY5RJJ_i5MY"
      },
      "source": [
        "#-------------- FOR LOOP -------------------"
      ],
      "execution_count": null,
      "outputs": []
    },
    {
      "cell_type": "code",
      "metadata": {
        "colab": {
          "base_uri": "https://localhost:8080/"
        },
        "id": "0eyOddZ6eahK",
        "outputId": "80281a07-7a5e-45bc-b785-60b4679a0dc0"
      },
      "source": [
        "for each in range(1,11):\n",
        "  print(each)"
      ],
      "execution_count": null,
      "outputs": [
        {
          "output_type": "stream",
          "text": [
            "1\n",
            "2\n",
            "3\n",
            "4\n",
            "5\n",
            "6\n",
            "7\n",
            "8\n",
            "9\n",
            "10\n"
          ],
          "name": "stdout"
        }
      ]
    },
    {
      "cell_type": "code",
      "metadata": {
        "colab": {
          "base_uri": "https://localhost:8080/"
        },
        "id": "jzONgGXOehRh",
        "outputId": "1191966f-4906-415b-ffca-a20337b97325"
      },
      "source": [
        "for each in \"Kocaeli Istanbul Ankara\":\n",
        "  print(each)"
      ],
      "execution_count": null,
      "outputs": [
        {
          "output_type": "stream",
          "text": [
            "K\n",
            "o\n",
            "c\n",
            "a\n",
            "e\n",
            "l\n",
            "i\n",
            " \n",
            "I\n",
            "s\n",
            "t\n",
            "a\n",
            "n\n",
            "b\n",
            "u\n",
            "l\n",
            " \n",
            "A\n",
            "n\n",
            "k\n",
            "a\n",
            "r\n",
            "a\n"
          ],
          "name": "stdout"
        }
      ]
    },
    {
      "cell_type": "code",
      "metadata": {
        "colab": {
          "base_uri": "https://localhost:8080/"
        },
        "id": "vmo2CbJDeqy0",
        "outputId": "262de45a-2954-422d-9213-243374645dc3"
      },
      "source": [
        "for each in \"Kocaeli Istanbul Ankara\".split():\n",
        "  print(each)"
      ],
      "execution_count": null,
      "outputs": [
        {
          "output_type": "stream",
          "text": [
            "Kocaeli\n",
            "Istanbul\n",
            "Ankara\n"
          ],
          "name": "stdout"
        }
      ]
    },
    {
      "cell_type": "code",
      "metadata": {
        "id": "529kcgLwexsO"
      },
      "source": [
        "num_list=[1,4,5,6,8,3,3,4,67]"
      ],
      "execution_count": null,
      "outputs": []
    },
    {
      "cell_type": "code",
      "metadata": {
        "colab": {
          "base_uri": "https://localhost:8080/"
        },
        "id": "YeQTHhi0e6Xt",
        "outputId": "c6c0d9ae-08f1-4d7f-c0d4-fd42ad39de96"
      },
      "source": [
        "sum(num_list)"
      ],
      "execution_count": null,
      "outputs": [
        {
          "output_type": "execute_result",
          "data": {
            "text/plain": [
              "101"
            ]
          },
          "metadata": {
            "tags": []
          },
          "execution_count": 6
        }
      ]
    },
    {
      "cell_type": "code",
      "metadata": {
        "colab": {
          "base_uri": "https://localhost:8080/"
        },
        "id": "QxWF25zFe7n-",
        "outputId": "c15e78eb-5c90-4b30-f4b8-3a17cd913b6e"
      },
      "source": [
        "temp_count=0\n",
        "for each in num_list:\n",
        "  temp_count+=each\n",
        "  print(temp_count)"
      ],
      "execution_count": null,
      "outputs": [
        {
          "output_type": "stream",
          "text": [
            "1\n",
            "5\n",
            "10\n",
            "16\n",
            "24\n",
            "27\n",
            "30\n",
            "34\n",
            "101\n"
          ],
          "name": "stdout"
        }
      ]
    },
    {
      "cell_type": "code",
      "metadata": {
        "colab": {
          "base_uri": "https://localhost:8080/"
        },
        "id": "oTJF-AXde90H",
        "outputId": "f1e1baf3-7f81-43f8-e399-0020b9e32688"
      },
      "source": [
        "quizz_list=[-48,2,3,4,522,423,2341,23,232,-11,-31,28,25]\n",
        "min=quizz_list[0]\n",
        "for each in quizz_list:\n",
        "    if each < min:\n",
        "      min=each\n",
        "    else:\n",
        "      continue \n",
        "print(min)\n",
        "    "
      ],
      "execution_count": null,
      "outputs": [
        {
          "output_type": "stream",
          "text": [
            "-48\n"
          ],
          "name": "stdout"
        }
      ]
    },
    {
      "cell_type": "code",
      "metadata": {
        "id": "3U-6jnvIFDLh"
      },
      "source": [
        "# ***************************** NESNE TABANLI PROGRAMLAMA *****************************"
      ],
      "execution_count": null,
      "outputs": []
    },
    {
      "cell_type": "code",
      "metadata": {
        "id": "8b8r7udpkx8y"
      },
      "source": [
        "#------------------- CLASS'LAR --------------------------"
      ],
      "execution_count": null,
      "outputs": []
    },
    {
      "cell_type": "code",
      "metadata": {
        "colab": {
          "base_uri": "https://localhost:8080/"
        },
        "id": "WkIAE5Dahfgg",
        "outputId": "fbee0711-68d3-4d10-e54f-fd24017a78cf"
      },
      "source": [
        "class worker:\n",
        "\n",
        "  raiseRatio=1.8\n",
        "  counter=0\n",
        "\n",
        "  def __init__(self,name,surname,sallary,mail=\"None Avaible\"):\n",
        "    self.name=name\n",
        "    self.surname=surname\n",
        "    self.sallary=sallary\n",
        "    self.mail=name+surname+\"@worker.com\"\n",
        "    worker.counter=worker.counter + 1\n",
        "  \n",
        "  def giveNameSurname(self):\n",
        "    return self.name + \" \" + self.surname\n",
        "\n",
        "  def sallaryUp(self):\n",
        "    self.sallary=self.sallary*self.raiseRatio\n",
        "\n",
        "tempWorker=worker(\"Furkan\",\"YAYLA\",3888)\n",
        "print(tempWorker.name)\n",
        "print(tempWorker.surname)\n",
        "print(tempWorker.sallary)\n",
        "print(tempWorker.mail)\n",
        "print(tempWorker.giveNameSurname())\n",
        "\n",
        "print(\"First Sallary:\",tempWorker.sallary)\n",
        "\n",
        "tempWorker.sallaryUp()\n",
        "print(\"New Sallary: \",tempWorker.sallary)\n",
        "\n",
        "print(\"Worker count:\",tempWorker.counter)\n",
        "\n",
        "tempWorker2=worker(\"Güllü\",\"YAYLA\",2350)\n",
        "print(\"Worker count:\",tempWorker2.counter)\n",
        "\n",
        "tempWorker3=worker(\"Funda Nur\",\"YAYLA\",4170)\n",
        "print(\"Worker count:\",tempWorker3.counter)\n",
        "\n",
        "tempWorker4=worker(\"Hamdi\",\"YAYLA\",2850)\n",
        "print(\"Worker count:\",tempWorker4.counter)\n"
      ],
      "execution_count": null,
      "outputs": [
        {
          "output_type": "stream",
          "text": [
            "Furkan\n",
            "YAYLA\n",
            "3888\n",
            "FurkanYAYLA@worker.com\n",
            "Furkan YAYLA\n",
            "First Sallary: 3888\n",
            "New Sallary:  6998.400000000001\n",
            "Worker count: 1\n",
            "Worker count: 2\n",
            "Worker count: 3\n",
            "Worker count: 4\n"
          ],
          "name": "stdout"
        }
      ]
    },
    {
      "cell_type": "code",
      "metadata": {
        "colab": {
          "base_uri": "https://localhost:8080/"
        },
        "id": "g4VkZ-ktD6yy",
        "outputId": "593dd57f-f038-42dd-b185-bb35186dcda5"
      },
      "source": [
        "temp_List=[tempWorker,tempWorker2,tempWorker3,tempWorker4]\n",
        "maxSallary=0\n",
        "\n",
        "for each in temp_List:\n",
        "  if (each.sallary) > maxSallary:\n",
        "    maxSallary=round(each.sallary)\n",
        "    maxSallaryWorker=each.giveNameSurname()\n",
        "\n",
        "print(\"{} is gain highest salary and the highest sallary : {}$\".format(maxSallaryWorker,maxSallary))"
      ],
      "execution_count": null,
      "outputs": [
        {
          "output_type": "stream",
          "text": [
            "Furkan YAYLA is gain highest salary and the highest sallary : 6998$\n"
          ],
          "name": "stdout"
        }
      ]
    },
    {
      "cell_type": "code",
      "metadata": {
        "id": "WlIHeYQgj9Xg"
      },
      "source": [
        ""
      ],
      "execution_count": null,
      "outputs": []
    }
  ]
}